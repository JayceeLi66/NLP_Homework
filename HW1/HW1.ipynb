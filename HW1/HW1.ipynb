{
 "cells": [
  {
   "cell_type": "code",
   "execution_count": 1,
   "metadata": {},
   "outputs": [],
   "source": [
    "import pandas as pd\n",
    "import numpy as np\n",
    "import matplotlib.pyplot as plt\n",
    "%matplotlib inline\n",
    "import pickle as pkl\n",
    "import torch\n",
    "import torch.nn as nn\n",
    "import torch.nn.functional as F\n",
    "import torch.optim as optim"
   ]
  },
  {
   "cell_type": "code",
   "execution_count": 2,
   "metadata": {},
   "outputs": [],
   "source": [
    "# Load SNLI data\n",
    "train = pd.read_csv('data/snli_train.tsv', sep='\\t')\n",
    "val = pd.read_csv('data/snli_val.tsv', sep='\\t')\n",
    "train.columns = ['premise', 'hypothesis', 'label']\n",
    "val.columns = ['premise', 'hypothesis', 'label']"
   ]
  },
  {
   "cell_type": "code",
   "execution_count": 3,
   "metadata": {},
   "outputs": [],
   "source": [
    "# Change label to numerical\n",
    "y_train = np.array(train['label'].replace('entailment',1).replace('neutral',0).replace('contradiction',2))\n",
    "y_val = np.array(val['label'].replace('entailment',1).replace('neutral',0).replace('contradiction',2))"
   ]
  },
  {
   "cell_type": "code",
   "execution_count": 4,
   "metadata": {},
   "outputs": [],
   "source": [
    "# import spacy\n",
    "# import string\n",
    "\n",
    "# tokenizer = spacy.load('en_core_web_sm')\n",
    "# punctuations = string.punctuation\n",
    "\n",
    "# def tokenize(sent):\n",
    "#     tokens = tokenizer(sent)\n",
    "#     return [token.text.lower() for token in tokens if (token.text not in punctuations)]\n",
    "\n",
    "# def tokenize_dataset(dataset):\n",
    "#     token_dataset = []\n",
    "#     all_tokens = []\n",
    "#     count = 0\n",
    "#     for sample in dataset:\n",
    "#         count += 1\n",
    "#         tokens = tokenize(sample)\n",
    "#         token_dataset.append(tokens)\n",
    "#         all_tokens += tokens\n",
    "#         if count%200 == 0:\n",
    "#             print('200 tokenized.')\n",
    "#     return token_dataset, all_tokens\n",
    "\n",
    "\n",
    "# train_sentence = pd.concat([train['premise'], train['hypothesis']])\n",
    "# val_sentence = pd.concat([val['premise'], val['hypothesis']])\n",
    "# train_tokens, all_tokens = tokenize_dataset(train_sentence)\n",
    "# pkl.dump(train_tokens, open(\"train_tokens.p\", \"wb\"))\n",
    "# pkl.dump(all_tokens, open(\"all_tokens.p\", \"wb\"))\n",
    "\n",
    "# val_tokens, all_val_tokens = tokenize_dataset(val_sentence)\n",
    "# pkl.dump(val_tokens, open(\"val_tokens.p\", \"wb\"))"
   ]
  },
  {
   "cell_type": "code",
   "execution_count": 13,
   "metadata": {},
   "outputs": [],
   "source": [
    "# Load tokenized data\n",
    "train_tokens = pkl.load(open(\"train_tokens.p\", \"rb\"))\n",
    "all_tokens = pkl.load(open(\"all_tokens.p\", \"rb\"))\n",
    "val_tokens = pkl.load(open(\"val_tokens.p\", \"rb\"))\n",
    "dataset = [train_tokens, y_train, val_tokens, y_val]"
   ]
  },
  {
   "cell_type": "code",
   "execution_count": 6,
   "metadata": {},
   "outputs": [],
   "source": [
    "from collections import Counter\n",
    "PAD_IDX = 0\n",
    "UNK_IDX = 1\n",
    "\n",
    "def build_vocab(all_tokens, max_vocab_size):\n",
    "    token_counter = Counter(all_tokens)\n",
    "    vocab, count = zip(*token_counter.most_common(max_vocab_size))\n",
    "    id2token = list(vocab)\n",
    "    token2id = dict(zip(vocab, range(2,2+len(vocab)))) \n",
    "    id2token = ['<pad>', '<unk>'] + id2token\n",
    "    token2id['<pad>'] = PAD_IDX \n",
    "    token2id['<unk>'] = UNK_IDX\n",
    "    return token2id, id2token\n",
    "    \n",
    "def token2index(tokens_data, token2id):\n",
    "    indices_data = []\n",
    "    for tokens in tokens_data:\n",
    "        index_list = [token2id[token] if token in token2id else UNK_IDX for token in tokens]\n",
    "        indices_data.append(index_list)\n",
    "    return indices_data"
   ]
  },
  {
   "cell_type": "code",
   "execution_count": 7,
   "metadata": {},
   "outputs": [],
   "source": [
    "from torch.utils.data import Dataset\n",
    "MAX_SENTENCE_LENGTH = 100\n",
    "\n",
    "class NewsGroupDataset(Dataset):\n",
    "    def __init__(self, data1, data2, target_list):\n",
    "        self.data1 = data1\n",
    "        self.data2 = data2\n",
    "        self.target_list = target_list\n",
    "        assert (len(self.data1) == len(self.target_list))\n",
    "\n",
    "    def __len__(self):\n",
    "        return len(self.data1)\n",
    "        \n",
    "    def __getitem__(self, key):\n",
    "        token_idx1 = self.data1[key][:MAX_SENTENCE_LENGTH]\n",
    "        token_idx2 = self.data2[key][:MAX_SENTENCE_LENGTH]\n",
    "        label = self.target_list[key]\n",
    "        return [token_idx1, len(token_idx1), \n",
    "                token_idx2, len(token_idx2), label]\n",
    "\n",
    "def newsgroup_collate_func(batch):\n",
    "    data1 = []\n",
    "    len1 = []\n",
    "    data2 = []\n",
    "    len2 = []\n",
    "    label = []\n",
    "    for datum in batch:\n",
    "        label.append(datum[4])\n",
    "        len1.append(datum[1])\n",
    "        len2.append(datum[3])\n",
    "    for datum in batch:\n",
    "        padded1 = np.pad(np.array(datum[0]), \n",
    "                         pad_width=((0,MAX_SENTENCE_LENGTH-datum[1])), \n",
    "                         mode=\"constant\", constant_values=0)\n",
    "        data1.append(padded1)\n",
    "        padded2 = np.pad(np.array(datum[2]), \n",
    "                         pad_width=((0,MAX_SENTENCE_LENGTH-datum[3])), \n",
    "                         mode=\"constant\", constant_values=0)\n",
    "        data2.append(padded2)\n",
    "    return [torch.from_numpy(np.array(data1)), torch.LongTensor(len1), \n",
    "            torch.from_numpy(np.array(data2)), torch.LongTensor(len2), \n",
    "            torch.LongTensor(label)]"
   ]
  },
  {
   "cell_type": "code",
   "execution_count": 84,
   "metadata": {},
   "outputs": [],
   "source": [
    "class LogisticRegression(nn.Module):\n",
    "    def __init__(self, vocab_size, emb_dim, approach):\n",
    "        super().__init__()\n",
    "        self.embed = nn.Embedding(vocab_size, emb_dim, padding_idx=0)\n",
    "        if approach == 'cat':\n",
    "            self.linear = nn.Linear(2*emb_dim,3)\n",
    "        else:\n",
    "            self.linear = nn.Linear(emb_dim,3)\n",
    "        self.init_weights()\n",
    "        self.approach = approach\n",
    "        \n",
    "    def forward(self, data1, len1, data2, len2):\n",
    "        embed1 = self.embed(data1)\n",
    "        embed1 = torch.sum(embed1, dim=1)\n",
    "        embed1 /= len1.view(len1.size()[0],1).expand_as(embed1).float()\n",
    "        \n",
    "        embed2 = self.embed(data2)\n",
    "        embed2 = torch.sum(embed2, dim=1)\n",
    "        embed2 /= len2.view(len2.size()[0],1).expand_as(embed2).float()\n",
    "        \n",
    "        if self.approach == 'cat':\n",
    "            x = torch.cat((embed1,embed2),1)\n",
    "        elif self.approach == 'product':\n",
    "            x = torch.mul(embed1,embed2)\n",
    "        \n",
    "        output = self.linear(x)\n",
    "        return output\n",
    "    \n",
    "    def init_weights(self):\n",
    "        nn.init.xavier_normal_(self.linear.weight)\n",
    "        nn.init.uniform_(self.linear.bias)\n",
    "        \n",
    "class NN(nn.Module):\n",
    "    def __init__(self, vocab_size, emb_dim, approach):\n",
    "        super().__init__()\n",
    "        self.embed = nn.Embedding(vocab_size, emb_dim, padding_idx=0)\n",
    "        if approach == 'cat':\n",
    "            self.hidden1 = nn.Linear(2*emb_dim,20)\n",
    "        else:\n",
    "            self.hidden1 = nn.Linear(emb_dim,20)      \n",
    "        self.hidden2 = nn.Linear(20,10)\n",
    "        self.output = nn.Linear(10,3) \n",
    "        self.dropout = nn.Dropout(p=0.2)\n",
    "        self.approach = approach\n",
    "        \n",
    "    def forward(self, data1, len1, data2, len2):\n",
    "        \n",
    "        embed1 = self.dropout(self.embed(data1))\n",
    "        embed1 = torch.sum(embed1, dim=1)\n",
    "        embed1 /= len1.view(len1.size()[0],1).expand_as(embed1).float()\n",
    "        \n",
    "        embed2 = self.dropout(self.embed(data2))\n",
    "        embed2 = torch.sum(embed2, dim=1)\n",
    "        embed2 /= len2.view(len2.size()[0],1).expand_as(embed2).float()\n",
    "        \n",
    "        if self.approach == 'cat':\n",
    "            x = torch.cat((embed1,embed2),1)\n",
    "        elif self.approach == 'product':\n",
    "            x = torch.mul(embed1,embed2)\n",
    "        \n",
    "        x = F.relu(self.hidden1(x))\n",
    "        x = F.relu(self.hidden2(x))\n",
    "        output = self.output(x)\n",
    "        return output\n",
    "    \n",
    "    \n",
    "def test_model(loader, model):\n",
    "    correct = 0\n",
    "    total = 0\n",
    "    model.eval()\n",
    "    for data1, len1, data2, len2, label in loader:\n",
    "        outputs = F.softmax(model(data1, len1, data2, len2),dim=1)\n",
    "        predicted = outputs.max(1, keepdim=True)[1]\n",
    "        total += label.size(0)\n",
    "        correct += predicted.eq(label.view_as(predicted)).sum().item()\n",
    "    return (100 * correct / total)"
   ]
  },
  {
   "cell_type": "code",
   "execution_count": 85,
   "metadata": {},
   "outputs": [],
   "source": [
    "def train_model(MODEL, dataset, MAX_VOCAB_SIZE=2000, EMBED_DIM=50, approach='cat', \n",
    "                learning_rate=0.01, num_epochs = 10):\n",
    "    train_tokens, y_train = dataset[0], dataset[1]\n",
    "    val_tokens, y_val = dataset[2], dataset[3]\n",
    "    token2id, id2token = build_vocab(all_tokens, MAX_VOCAB_SIZE)\n",
    "    train_indices = token2index(train_tokens, token2id)\n",
    "    val_indices = token2index(val_tokens, token2id)\n",
    "    \n",
    "    BATCH_SIZE = 32\n",
    "    train_dataset = NewsGroupDataset(train_indices[:100000], train_indices[100000:], y_train)\n",
    "    train_loader = torch.utils.data.DataLoader(dataset=train_dataset, \n",
    "                                           batch_size=BATCH_SIZE,\n",
    "                                           collate_fn=newsgroup_collate_func,\n",
    "                                           shuffle=True)\n",
    "\n",
    "    val_dataset = NewsGroupDataset(val_indices[:1000], val_indices[1000:], y_val)\n",
    "    val_loader = torch.utils.data.DataLoader(dataset=val_dataset, \n",
    "                                           batch_size=BATCH_SIZE,\n",
    "                                           collate_fn=newsgroup_collate_func,\n",
    "                                           shuffle=True)\n",
    "\n",
    "    \n",
    "    model = MODEL(MAX_VOCAB_SIZE+2,EMBED_DIM,approach)\n",
    "    criterion = torch.nn.CrossEntropyLoss()  \n",
    "    optimizer = optim.Adam(model.parameters(), lr=learning_rate)\n",
    "    \n",
    "    val_acc_ls, train_acc_ls = [], []\n",
    "    \n",
    "    for epoch in range(num_epochs):\n",
    "        for i, (data1, len1, data2, len2, label) in enumerate(train_loader):\n",
    "            model.train()\n",
    "            optimizer.zero_grad()\n",
    "            outputs = model(data1, len1, data2, len2)\n",
    "            loss = criterion(outputs, label)\n",
    "            loss.backward()\n",
    "            optimizer.step()\n",
    "        \n",
    "        train_acc = test_model(train_loader, model)\n",
    "        val_acc = test_model(val_loader, model)\n",
    "        val_acc_ls.append(val_acc)\n",
    "        train_acc_ls.append(train_acc)\n",
    "        #print('Epoch: [{}/{}], Train ACC: {}, Val Acc: {}'.format(epoch+1, num_epochs, train_acc, val_acc))\n",
    "\n",
    "    return model, train_acc_ls, val_acc_ls"
   ]
  },
  {
   "cell_type": "markdown",
   "metadata": {},
   "source": [
    "#### Tune the way to interact two sentences (concatenation vs element-wise multiplication)"
   ]
  },
  {
   "cell_type": "code",
   "execution_count": 14,
   "metadata": {},
   "outputs": [
    {
     "name": "stdout",
     "output_type": "stream",
     "text": [
      "60.2\n",
      "64.6\n"
     ]
    },
    {
     "data": {
      "image/png": "[encoded data removed]",
      "text/plain": [
       "<Figure size 504x288 with 1 Axes>"
      ]
     },
     "metadata": {},
     "output_type": "display_data"
    },
    {
     "name": "stdout",
     "output_type": "stream",
     "text": [
      "62.8\n",
      "66.6\n"
     ]
    },
    {
     "data": {
      "image/png": "[encoded data removed]",
      "text/plain": [
       "<Figure size 504x288 with 1 Axes>"
      ]
     },
     "metadata": {},
     "output_type": "display_data"
    }
   ],
   "source": [
    "approach_ls = ['cat', 'product']\n",
    "# Logistic Regression\n",
    "train_acc, val_acc = [], []\n",
    "fig = plt.figure(figsize=(7,4))\n",
    "for i in approach_ls:\n",
    "    model, train_ls, val_ls = train_model(LogisticRegression, dataset, approach=i)\n",
    "    train_acc.append(train_ls[-1])\n",
    "    val_acc.append(val_ls[-1])\n",
    "    print(val_ls[-1])\n",
    "plt.plot(approach_ls, train_acc, label='Train Acc')\n",
    "plt.plot(approach_ls, val_acc, label='Validation Acc')\n",
    "plt.scatter(approach_ls, train_acc)\n",
    "plt.scatter(approach_ls, val_acc)\n",
    "plt.xlabel('Approaches')\n",
    "plt.ylabel('Accuracy')\n",
    "plt.title('Logistic Regression')\n",
    "plt.legend()\n",
    "plt.show()\n",
    "\n",
    "# Neural Networks\n",
    "train_acc, val_acc = [], []\n",
    "fig = plt.figure(figsize=(7,4))\n",
    "for i in approach_ls:\n",
    "    model, train_ls, val_ls = train_model(NN, dataset, approach=i)\n",
    "    train_acc.append(train_ls[-1])\n",
    "    val_acc.append(val_ls[-1])\n",
    "    print(val_ls[-1])\n",
    "plt.plot(approach_ls, train_acc, label='Train Acc')\n",
    "plt.plot(approach_ls, val_acc, label='Validation Acc')\n",
    "plt.scatter(approach_ls, train_acc)\n",
    "plt.scatter(approach_ls, val_acc)\n",
    "plt.xlabel('Approaches')\n",
    "plt.ylabel('Accuracy')\n",
    "plt.title('Neural Networks')\n",
    "plt.legend()\n",
    "plt.show()"
   ]
  },
  {
   "cell_type": "markdown",
   "metadata": {},
   "source": [
    "#### Tune learning rate"
   ]
  },
  {
   "cell_type": "code",
   "execution_count": 16,
   "metadata": {},
   "outputs": [
    {
     "name": "stdout",
     "output_type": "stream",
     "text": [
      "59.9\n",
      "65.3\n",
      "66.9\n",
      "62.3\n",
      "54.4\n"
     ]
    },
    {
     "data": {
      "image/png": "[encoded data removed]",
      "text/plain": [
       "<Figure size 504x288 with 1 Axes>"
      ]
     },
     "metadata": {},
     "output_type": "display_data"
    },
    {
     "name": "stdout",
     "output_type": "stream",
     "text": [
      "62.2\n",
      "64.6\n",
      "63.8\n",
      "42.2\n",
      "33.8\n"
     ]
    },
    {
     "data": {
      "image/png": "[encoded data removed]",
      "text/plain": [
       "<Figure size 504x288 with 1 Axes>"
      ]
     },
     "metadata": {},
     "output_type": "display_data"
    }
   ],
   "source": [
    "lr_range = [0.001, 0.005, 0.01, 0.05, 0.1]\n",
    "# Logistic Regression\n",
    "train_acc, val_acc = [], []\n",
    "fig = plt.figure(figsize=(7,4))\n",
    "for lr in lr_range:\n",
    "    model, train_ls, val_ls = train_model(LogisticRegression, dataset, approach='product', learning_rate=lr)\n",
    "    train_acc.append(train_ls[-1])\n",
    "    val_acc.append(val_ls[-1])\n",
    "    print(val_ls[-1])\n",
    "plt.plot([1,2,3,4,5], train_acc, label='Train Acc')\n",
    "plt.plot([1,2,3,4,5], val_acc, label='Validation Acc')\n",
    "plt.scatter([1,2,3,4,5], train_acc)\n",
    "plt.scatter([1,2,3,4,5], val_acc)\n",
    "plt.xticks([1,2,3,4,5], lr_range)\n",
    "plt.xlabel('Learning rate')\n",
    "plt.ylabel('Accuracy')\n",
    "plt.title('Logistic Regression')\n",
    "plt.legend()\n",
    "plt.show()\n",
    "\n",
    "# Neural Networks\n",
    "train_acc, val_acc = [], []\n",
    "fig = plt.figure(figsize=(7,4))\n",
    "for lr in lr_range:\n",
    "    model, train_ls, val_ls = train_model(NN, dataset, approach='cat', learning_rate=lr)\n",
    "    train_acc.append(train_ls[-1])\n",
    "    val_acc.append(val_ls[-1])\n",
    "    print(val_ls[-1])\n",
    "plt.plot([1,2,3,4,5], train_acc, label='Train Acc')\n",
    "plt.plot([1,2,3,4,5], val_acc, label='Validation Acc')\n",
    "plt.scatter([1,2,3,4,5], train_acc)\n",
    "plt.scatter([1,2,3,4,5], val_acc)\n",
    "plt.xticks([1,2,3,4,5], lr_range)\n",
    "plt.xlabel('Learning rate')\n",
    "plt.ylabel('Accuracy')\n",
    "plt.title('Neural Networks')\n",
    "plt.legend()\n",
    "plt.show()"
   ]
  },
  {
   "cell_type": "markdown",
   "metadata": {},
   "source": [
    "#### Tune vocabulary size"
   ]
  },
  {
   "cell_type": "code",
   "execution_count": 17,
   "metadata": {},
   "outputs": [
    {
     "name": "stdout",
     "output_type": "stream",
     "text": [
      "65.7\n",
      "63.9\n",
      "64.7\n",
      "63.4\n"
     ]
    },
    {
     "data": {
      "image/png": "[encoded data removed]",
      "text/plain": [
       "<Figure size 576x360 with 1 Axes>"
      ]
     },
     "metadata": {},
     "output_type": "display_data"
    },
    {
     "name": "stdout",
     "output_type": "stream",
     "text": [
      "64.5\n",
      "65.4\n",
      "65.5\n",
      "66.1\n"
     ]
    },
    {
     "data": {
      "image/png": "[encoded data removed]",
      "text/plain": [
       "<Figure size 576x360 with 1 Axes>"
      ]
     },
     "metadata": {},
     "output_type": "display_data"
    }
   ],
   "source": [
    "vocab_size_range = [2000, 5000, 10000, 15000]\n",
    "## Logistic Regression\n",
    "train_acc, val_acc = [], []\n",
    "fig = plt.figure(figsize=(8,5))\n",
    "for vocab_size in vocab_size_range:\n",
    "    model, train_ls, val_ls = train_model(LogisticRegression, dataset, MAX_VOCAB_SIZE=vocab_size,\n",
    "                                          approach='product', learning_rate=0.01)\n",
    "    train_acc.append(train_ls[-1])\n",
    "    val_acc.append(val_ls[-1])\n",
    "    print(val_ls[-1])\n",
    "plt.plot([1,2,3,4], train_acc, label='Train Acc')\n",
    "plt.plot([1,2,3,4], val_acc, label='Validation Acc')\n",
    "plt.scatter([1,2,3,4], train_acc)\n",
    "plt.scatter([1,2,3,4], val_acc)\n",
    "plt.xticks([1,2,3,4], vocab_size_range)\n",
    "plt.xlabel('Vocabulary size')\n",
    "plt.ylabel('Accuracy')\n",
    "plt.title('Logistic Regression')\n",
    "plt.legend()\n",
    "plt.show()\n",
    "\n",
    "\n",
    "# Neural Networks\n",
    "train_acc, val_acc = [], []\n",
    "fig = plt.figure(figsize=(8,5))\n",
    "for vocab_size in vocab_size_range:\n",
    "    model, train_ls, val_ls = train_model(NN, dataset, MAX_VOCAB_SIZE=vocab_size,\n",
    "                                          approach='product', learning_rate=0.005)\n",
    "    train_acc.append(train_ls[-1])\n",
    "    val_acc.append(val_ls[-1])\n",
    "    print(val_ls[-1])\n",
    "plt.plot([1,2,3,4], train_acc, label='Train Acc')\n",
    "plt.plot([1,2,3,4], val_acc, label='Validation Acc')\n",
    "plt.scatter([1,2,3,4], train_acc)\n",
    "plt.scatter([1,2,3,4], val_acc)\n",
    "plt.xticks([1,2,3,4], vocab_size_range)\n",
    "plt.xlabel('Vocabulary size')\n",
    "plt.ylabel('Accuracy')\n",
    "plt.title('Neural Networks')\n",
    "plt.legend()\n",
    "plt.show()"
   ]
  },
  {
   "cell_type": "code",
   "execution_count": 23,
   "metadata": {},
   "outputs": [
    {
     "name": "stdout",
     "output_type": "stream",
     "text": [
      "64.5\n",
      "65.1\n",
      "63.5\n",
      "64.5\n"
     ]
    },
    {
     "data": {
      "image/png": "[encoded data removed]",
      "text/plain": [
       "<Figure size 504x288 with 1 Axes>"
      ]
     },
     "metadata": {},
     "output_type": "display_data"
    },
    {
     "name": "stdout",
     "output_type": "stream",
     "text": [
      "65.0\n",
      "64.8\n",
      "65.4\n",
      "66.0\n"
     ]
    },
    {
     "data": {
      "image/png": "[encoded data removed]",
      "text/plain": [
       "<Figure size 504x288 with 1 Axes>"
      ]
     },
     "metadata": {},
     "output_type": "display_data"
    }
   ],
   "source": [
    "embed_dim_range = [50, 100, 200, 300]\n",
    "# Logistic Regression\n",
    "train_acc, val_acc = [], []\n",
    "fig = plt.figure(figsize=(7,4))\n",
    "for embed_dim in embed_dim_range:\n",
    "    model, train_ls, val_ls = train_model(LogisticRegression, dataset, MAX_VOCAB_SIZE=2000,\n",
    "                                          EMBED_DIM=embed_dim, approach='product', learning_rate=0.01)\n",
    "    train_acc.append(train_ls[-1])\n",
    "    val_acc.append(val_ls[-1])\n",
    "    print(val_ls[-1])\n",
    "plt.plot([1,2,3,4], train_acc, label='Train Acc')\n",
    "plt.plot([1,2,3,4], val_acc, label='Validation Acc')\n",
    "plt.scatter([1,2,3,4], train_acc)\n",
    "plt.scatter([1,2,3,4], val_acc)\n",
    "plt.xticks([1,2,3,4], embed_dim_range)\n",
    "plt.xlabel('Embedding dimension')\n",
    "plt.ylabel('Accuracy')\n",
    "plt.title('Logistic Regression')\n",
    "plt.legend()\n",
    "plt.show()\n",
    "\n",
    "# Neural Networks\n",
    "train_acc, val_acc = [], []\n",
    "fig = plt.figure(figsize=(7,4))\n",
    "for embed_dim in embed_dim_range:\n",
    "    model, train_ls, val_ls = train_model(NN, dataset, MAX_VOCAB_SIZE= 15000,\n",
    "                                          EMBED_DIM=embed_dim, approach='product', learning_rate=0.005)\n",
    "    train_acc.append(train_ls[-1])\n",
    "    val_acc.append(val_ls[-1])\n",
    "    print(val_ls[-1])\n",
    "plt.plot([1,2,3,4], train_acc, label='Train Acc')\n",
    "plt.plot([1,2,3,4], val_acc, label='Validation Acc')\n",
    "plt.scatter([1,2,3,4], train_acc)\n",
    "plt.scatter([1,2,3,4], val_acc)\n",
    "plt.xticks([1,2,3,4], embed_dim_range)\n",
    "plt.xlabel('Embedding dimension')\n",
    "plt.ylabel('Accuracy')\n",
    "plt.title('Neural Networks')\n",
    "plt.legend()\n",
    "plt.show()"
   ]
  },
  {
   "cell_type": "code",
   "execution_count": 24,
   "metadata": {},
   "outputs": [
    {
     "data": {
      "text/plain": [
       "63.6"
      ]
     },
     "execution_count": 24,
     "metadata": {},
     "output_type": "execute_result"
    }
   ],
   "source": [
    "best_LR_model , train_ls, val_ls = train_model(LogisticRegression, dataset, 2000, 100, \n",
    "                                                       approach='product', learning_rate = 0.01)\n",
    "val_ls[-1]"
   ]
  },
  {
   "cell_type": "code",
   "execution_count": 25,
   "metadata": {},
   "outputs": [],
   "source": [
    "torch.save(best_LR_model.state_dict(), \"lr_best.ckpt\")"
   ]
  },
  {
   "cell_type": "code",
   "execution_count": 86,
   "metadata": {},
   "outputs": [
    {
     "data": {
      "text/plain": [
       "63.6"
      ]
     },
     "execution_count": 86,
     "metadata": {},
     "output_type": "execute_result"
    }
   ],
   "source": [
    "best_NN_model , train_acc_ls, val_acc_ls = train_model(NN, dataset, 15000, 300, \n",
    "                                                       approach='product', learning_rate = 0.005)\n",
    "val_ls[-1]"
   ]
  },
  {
   "cell_type": "code",
   "execution_count": 27,
   "metadata": {},
   "outputs": [],
   "source": [
    "torch.save(best_NN_model.state_dict(), \"nn_best.ckpt\")"
   ]
  },
  {
   "cell_type": "markdown",
   "metadata": {},
   "source": [
    "## 3.2 Evaluating on MultiNLI & 3.3 Fine-tuning on MultiNLI"
   ]
  },
  {
   "cell_type": "code",
   "execution_count": 28,
   "metadata": {},
   "outputs": [
    {
     "data": {
      "text/plain": [
       "<All keys matched successfully>"
      ]
     },
     "execution_count": 28,
     "metadata": {},
     "output_type": "execute_result"
    }
   ],
   "source": [
    "# Load best models\n",
    "best_LR_model = LogisticRegression(2002, 100, 'product')\n",
    "best_LR_model.load_state_dict(torch.load('lr_best.ckpt'))\n",
    "best_NN_model = NN(15002, 300, 'product')\n",
    "best_NN_model.load_state_dict(torch.load('nn_best.ckpt'))"
   ]
  },
  {
   "cell_type": "code",
   "execution_count": 39,
   "metadata": {
    "scrolled": true
   },
   "outputs": [],
   "source": [
    "# Preprocessing data\n",
    "all_tokens = pkl.load(open(\"all_tokens.p\", \"rb\"))\n",
    "token2id, id2token = build_vocab(all_tokens, 2000)\n",
    "train_MNLI = pd.read_csv('./data/mnli_train.tsv',sep='\\t')\n",
    "val_MNLI = pd.read_csv('./data/mnli_val.tsv',sep='\\t')\n",
    "train_tokens_MNLI = pkl.load(open('train_tokens_MNLI.p', 'rb'))\n",
    "val_tokens_MNLI = pkl.load(open(\"val_tokens_MNLI.p\", \"rb\"))\n",
    "train_indices_MNLI = token2index(train_tokens_MNLI, token2id)\n",
    "val_indices_MNLI = token2index(val_tokens_MNLI, token2id)\n",
    "y_train_MNLI = np.array(train_MNLI['label'].replace('entailment',1).replace('neutral',0).replace('contradiction',2))\n",
    "y_val_MNLI = np.array(val_MNLI['label'].replace('entailment',1).replace('neutral',0).replace('contradiction',2))"
   ]
  },
  {
   "cell_type": "code",
   "execution_count": 40,
   "metadata": {},
   "outputs": [
    {
     "name": "stdout",
     "output_type": "stream",
     "text": [
      "For genre: 'telephone', Val Acc of Logistic Regression: 35.82089552238806\n",
      "\n",
      "For genre: 'fiction', Val Acc of Logistic Regression: 32.1608040201005\n",
      "\n",
      "For genre: 'slate', Val Acc of Logistic Regression: 33.13373253493014\n",
      "\n",
      "For genre: 'government', Val Acc of Logistic Regression: 33.46456692913386\n",
      "\n",
      "For genre: 'travel', Val Acc of Logistic Regression: 34.521384928716905\n",
      "\n"
     ]
    }
   ],
   "source": [
    "genre = list(train_MNLI['genre'].unique())\n",
    "for g in genre:\n",
    "    index_train = train_MNLI[train_MNLI['genre']==g].index\n",
    "    x_train_premise = [train_indices_MNLI[i] for i in index_train]\n",
    "    x_train_hypothesis = [train_indices_MNLI[2*i] for i in index_train]\n",
    "    y_train_by_genre = [y_train_MNLI[i] for i in index_train]\n",
    "    train_dataset = NewsGroupDataset(x_train_premise, x_train_hypothesis, y_train_by_genre)\n",
    "    train_loader = torch.utils.data.DataLoader(dataset=train_dataset, batch_size=32, collate_fn=newsgroup_collate_func,\n",
    "                                              shuffle=True)\n",
    "    \n",
    "    index = val_MNLI[val_MNLI['genre']==g].index\n",
    "    x_val_premise = [val_indices_MNLI[i] for i in index]\n",
    "    x_val_hypothesis = [val_indices_MNLI[2*i] for i in index]\n",
    "    y_val_by_genre = [y_val_MNLI[i] for i in index]\n",
    "    val_dataset = NewsGroupDataset(x_val_premise, x_val_hypothesis, y_val_by_genre)\n",
    "    val_loader = torch.utils.data.DataLoader(dataset=val_dataset, batch_size=32, collate_fn=newsgroup_collate_func,\n",
    "                                              shuffle=True)\n",
    "    \n",
    "    num_epochs = 2\n",
    "    criterion = torch.nn.CrossEntropyLoss()  \n",
    "    \n",
    "    model = LogisticRegression(2002,100,'product')\n",
    "    model.load_state_dict(torch.load('lr_best.ckpt'))\n",
    "    optimizer = optim.Adam(model.parameters(), lr=0.01)\n",
    "    \n",
    "    for epoch in range(num_epochs):\n",
    "        for i, (data1, len1, data2, len2, label) in enumerate(train_loader):\n",
    "            model.train()\n",
    "            optimizer.zero_grad()\n",
    "            outputs = model(data1, len1, data2, len2)\n",
    "            loss = criterion(outputs, label)\n",
    "            loss.backward()\n",
    "            optimizer.step()\n",
    "        \n",
    "        val_acc = test_model(val_loader, model)\n",
    "        val_acc_ls.append(val_acc)\n",
    "    print (\"For genre: '{}', Val Acc of Logistic Regression: {}\".format(g, test_model(val_loader, model)))\n",
    "    \n",
    "    model = NN(15002,300,'product')\n",
    "    model.load_state_dict(torch.load('nn_best.ckpt'))\n",
    "    optimizer = optim.Adam(model.parameters(), lr=0.005)\n",
    "    \n",
    "    for epoch in range(num_epochs):\n",
    "        for i, (data1, len1, data2, len2, label) in enumerate(train_loader):\n",
    "            model.train()\n",
    "            optimizer.zero_grad()\n",
    "            outputs = model(data1, len1, data2, len2)\n",
    "            loss = criterion(outputs, label)\n",
    "            loss.backward()\n",
    "            optimizer.step()\n",
    "        \n",
    "        val_acc = test_model(val_loader, model)\n",
    "        val_acc_ls.append(val_acc)\n",
    "    print (\"For genre: '{}', Val Acc of Neural Networks: {}\".format(g,test_model(val_loader, model)))\n",
    "    print ()"
   ]
  },
  {
   "cell_type": "markdown",
   "metadata": {},
   "source": [
    "## 3.4 Pre-Train Word Embedding"
   ]
  },
  {
   "cell_type": "code",
   "execution_count": 41,
   "metadata": {},
   "outputs": [],
   "source": [
    "import io\n",
    "\n",
    "def load_vectors(fname):\n",
    "    i=0\n",
    "    fin = io.open(fname, 'r', encoding='utf-8', newline='\\n', errors='ignore')\n",
    "    n, d = list(map(int, fin.readline().split()))\n",
    "    data = {}\n",
    "    for line in fin:\n",
    "        if i<50000:\n",
    "            tokens = line.rstrip().split(' ')\n",
    "            data[tokens[0]] = list(map(float, tokens[1:]))\n",
    "            i+=1\n",
    "        else:\n",
    "            break\n",
    "    return data"
   ]
  },
  {
   "cell_type": "code",
   "execution_count": 43,
   "metadata": {},
   "outputs": [],
   "source": [
    "vec_emb = load_vectors('wiki-news-300d-1M.vec')"
   ]
  },
  {
   "cell_type": "code",
   "execution_count": 74,
   "metadata": {},
   "outputs": [],
   "source": [
    "class LogisticRegression_frozen(nn.Module):\n",
    "    def __init__(self, pretrained_weight , emb_dim, approach):\n",
    "        super().__init__()\n",
    "        self.emb_dim = emb_dim\n",
    "        self.embed = nn.Embedding.from_pretrained(pretrained_weight, freeze = False, padding_idx=0)\n",
    "        if approach == 'cat':\n",
    "            self.linear = nn.Linear(2*emb_dim,3)\n",
    "        else:\n",
    "            self.linear = nn.Linear(emb_dim,3)\n",
    "        self.init_weights()\n",
    "        self.approach = approach\n",
    "        \n",
    "    def forward(self, data1, len1, data2, len2):\n",
    "        emb1 = self.embed(data1)\n",
    "        m1 = (data1 == 1)\n",
    "        m1 = m1.unsqueeze(2).repeat(1, 1, self.emb_dim).type(torch.FloatTensor).to(emb1.device)\n",
    "        emb1 = m1 * emb1 + (1-m1) * emb1.clone().detach()\n",
    "        emb1 = torch.sum(emb1, dim=1)\n",
    "        emb1 /= len1.view(len1.size()[0],1).expand_as(emb1).float()\n",
    "        \n",
    "        emb2 = self.embed(data2)\n",
    "        m2 = (data2 == 1)\n",
    "        m2 = m2.unsqueeze(2).repeat(1, 1, self.emb_dim).type(torch.FloatTensor).to(emb2.device)\n",
    "        emb2 = m2 * emb2 + (1-m2) * emb2.clone().detach()\n",
    "        emb2 = torch.sum(emb2, dim=1)\n",
    "        emb2 /= len2.view(len2.size()[0],1).expand_as(emb2).float()\n",
    "        \n",
    "        if self.approach == 'cat':\n",
    "            x = torch.cat((emb1,emb2),1)\n",
    "        elif self.approach == 'product':\n",
    "            x = torch.mul(emb1,emb2)\n",
    "        \n",
    "        output = self.linear(x)\n",
    "        return output\n",
    "    \n",
    "    def init_weights(self):\n",
    "        nn.init.xavier_normal_(self.linear.weight)\n",
    "        nn.init.uniform_(self.linear.bias)\n",
    "        \n",
    "class NN_frozen(nn.Module):\n",
    "    def __init__(self, pretrained_weight, emb_dim, approach):\n",
    "        super().__init__()\n",
    "        self.emb_dim = emb_dim\n",
    "        self.embed = nn.Embedding.from_pretrained(pretrained_weight, freeze = False, padding_idx=0)\n",
    "        if approach == 'cat':\n",
    "            self.hidden1 = nn.Linear(2*emb_dim,20)\n",
    "        else:\n",
    "            self.hidden1 = nn.Linear(emb_dim,20)      \n",
    "        self.hidden2 = nn.Linear(20,10)\n",
    "        self.output = nn.Linear(10,3) \n",
    "        self.dropout = nn.Dropout(p=0.2)\n",
    "        self.approach = approach\n",
    "        \n",
    "    def forward(self, data1, len1, data2, len2):\n",
    "    \n",
    "        emb1 = self.dropout(self.embed(data1))\n",
    "        m1 = (data1 == 1)\n",
    "        m1 = m1.unsqueeze(2).repeat(1, 1, self.emb_dim).type(torch.FloatTensor).to(emb1.device)\n",
    "        emb1 = m1 * emb1 + (1-m1) * emb1.clone().detach()\n",
    "        emb1 = torch.sum(emb1, dim=1)\n",
    "        emb1 /= len1.view(len1.size()[0],1).expand_as(emb1).float()\n",
    "        \n",
    "        emb2 = self.dropout(self.embed(data2))\n",
    "        m2 = (data2 == 1)\n",
    "        m2 = m2.unsqueeze(2).repeat(1, 1, self.emb_dim).type(torch.FloatTensor).to(emb2.device)\n",
    "        emb2 = m2 * emb2 + (1-m2) * emb2.clone().detach()\n",
    "        emb2 = torch.sum(emb2, dim=1)\n",
    "        emb2 /= len2.view(len2.size()[0],1).expand_as(emb2).float()\n",
    "        \n",
    "        if self.approach == 'cat':\n",
    "            x = torch.cat((emb1,emb2),1)\n",
    "        elif self.approach == 'product':\n",
    "            x = torch.mul(emb1,emb2)\n",
    "        \n",
    "        x = F.relu(self.hidden1(x))\n",
    "        x = F.relu(self.hidden2(x))\n",
    "        output = self.output(x)\n",
    "        return output\n",
    "    \n",
    "    \n",
    "def test_model(loader, model):\n",
    "    correct = 0\n",
    "    total = 0\n",
    "    model.eval()\n",
    "    for data1, len1, data2, len2, label in loader:\n",
    "        outputs = F.softmax(model(data1, len1, data2, len2),dim=1)\n",
    "        predicted = outputs.max(1, keepdim=True)[1]\n",
    "        total += label.size(0)\n",
    "        correct += predicted.eq(label.view_as(predicted)).sum().item()\n",
    "    return (100 * correct / total)"
   ]
  },
  {
   "cell_type": "markdown",
   "metadata": {},
   "source": [
    "#### Part 3.1"
   ]
  },
  {
   "cell_type": "code",
   "execution_count": 52,
   "metadata": {},
   "outputs": [
    {
     "name": "stdout",
     "output_type": "stream",
     "text": [
      "Epoch: [1/5], Train ACC: 38.036, Val Acc: 37.6\n",
      "Epoch: [2/5], Train ACC: 44.179, Val Acc: 43.9\n",
      "Epoch: [3/5], Train ACC: 43.713, Val Acc: 42.5\n",
      "Epoch: [4/5], Train ACC: 44.881, Val Acc: 44.5\n",
      "Epoch: [5/5], Train ACC: 41.903, Val Acc: 41.0\n"
     ]
    }
   ],
   "source": [
    "import itertools\n",
    "import numpy as np\n",
    "\n",
    "train_tokens = pkl.load(open(\"train_tokens.p\", \"rb\"))\n",
    "all_tokens = pkl.load(open(\"all_tokens.p\", \"rb\"))\n",
    "val_tokens = pkl.load(open(\"val_tokens.p\", \"rb\"))\n",
    "\n",
    "pretrained_tokens = [key for key in vec_emb]\n",
    "token2id, id2token = build_vocab(pretrained_tokens, 2000)\n",
    "pretrained_weight = torch.FloatTensor(np.concatenate(\n",
    "                            [np.zeros([1,emb_dim]), \n",
    "                             np.random.randn(1,emb_dim), \n",
    "                             np.array([vec_emb[key] for key in vec_emb])\n",
    "                            ]))\n",
    "    \n",
    "train_indices = token2index(train_tokens, token2id)\n",
    "val_indices = token2index(val_tokens, token2id)\n",
    "    \n",
    "train_dataset = NewsGroupDataset(train_indices[:100000], train_indices[100000:], y_train)\n",
    "train_loader = torch.utils.data.DataLoader(dataset=train_dataset, \n",
    "                                           batch_size=32,\n",
    "                                           collate_fn=newsgroup_collate_func,\n",
    "                                           shuffle=True)\n",
    "\n",
    "val_dataset = NewsGroupDataset(val_indices[:1000], val_indices[1000:], y_val)\n",
    "val_loader = torch.utils.data.DataLoader(dataset=val_dataset, \n",
    "                                           batch_size=32,\n",
    "                                           collate_fn=newsgroup_collate_func,\n",
    "                                           shuffle=True)\n",
    "\n",
    "   \n",
    "model = LogisticRegression_frozen(pretrained_weight,300,'product')\n",
    "criterion = torch.nn.CrossEntropyLoss()  \n",
    "optimizer = optim.Adam(model.parameters(), lr=0.01)\n",
    "    \n",
    "val_acc_ls, train_acc_ls = [], []\n",
    "    \n",
    "for epoch in range(3):\n",
    "    for i, (data1, len1, data2, len2, label) in enumerate(train_loader):\n",
    "        model.train()\n",
    "        optimizer.zero_grad()\n",
    "        outputs = model(data1, len1, data2, len2)\n",
    "        loss = criterion(outputs, label)\n",
    "        loss.backward()\n",
    "        optimizer.step()\n",
    "        \n",
    "    train_acc = test_model(train_loader, model)\n",
    "    val_acc = test_model(val_loader, model)\n",
    "    val_acc_ls.append(val_acc)\n",
    "    train_acc_ls.append(train_acc)\n",
    "    print('Epoch: [{}/{}], Train ACC: {}, Val Acc: {}'.format(epoch+1, num_epochs, train_acc, val_acc))"
   ]
  },
  {
   "cell_type": "code",
   "execution_count": 53,
   "metadata": {},
   "outputs": [],
   "source": [
    "torch.save(model.state_dict(), \"lr_frozen.ckpt\")"
   ]
  },
  {
   "cell_type": "code",
   "execution_count": 76,
   "metadata": {},
   "outputs": [
    {
     "name": "stdout",
     "output_type": "stream",
     "text": [
      "Epoch: [1/2], Train ACC: 33.249686323713924, Val Acc: 30.75356415478615\n",
      "Epoch: [2/2], Train ACC: 33.57590966122961, Val Acc: 35.437881873727086\n"
     ]
    }
   ],
   "source": [
    "model = NN_frozen(pretrained_weight,300,'product')\n",
    "criterion = torch.nn.CrossEntropyLoss()  \n",
    "optimizer = optim.Adam(model.parameters(), lr=0.01)\n",
    "    \n",
    "val_acc_ls, train_acc_ls = [], []\n",
    "    \n",
    "for epoch in range(2):\n",
    "    for i, (data1, len1, data2, len2, label) in enumerate(train_loader):\n",
    "        model.train()\n",
    "        optimizer.zero_grad()\n",
    "        outputs = model(data1, len1, data2, len2)\n",
    "        loss = criterion(outputs, label)\n",
    "        loss.backward()\n",
    "        optimizer.step()\n",
    "        \n",
    "    train_acc = test_model(train_loader, model)\n",
    "    val_acc = test_model(val_loader, model)\n",
    "    val_acc_ls.append(val_acc)\n",
    "    train_acc_ls.append(train_acc)\n",
    "    print('Epoch: [{}/{}], Train ACC: {}, Val Acc: {}'.format(epoch+1, 2, train_acc, val_acc))"
   ]
  },
  {
   "cell_type": "code",
   "execution_count": 77,
   "metadata": {},
   "outputs": [],
   "source": [
    "torch.save(model.state_dict(), \"nn_frozen.ckpt\")"
   ]
  },
  {
   "cell_type": "markdown",
   "metadata": {},
   "source": [
    "#### part 3.2"
   ]
  },
  {
   "cell_type": "code",
   "execution_count": 78,
   "metadata": {},
   "outputs": [],
   "source": [
    "train_indices_MNLI = token2index(train_tokens_MNLI, token2id)\n",
    "val_indices_MNLI = token2index(val_tokens_MNLI, token2id)"
   ]
  },
  {
   "cell_type": "code",
   "execution_count": 79,
   "metadata": {},
   "outputs": [
    {
     "name": "stdout",
     "output_type": "stream",
     "text": [
      "For genre: 'telephone', Val Acc of Logistic Regression: 29.45273631840796\n",
      "For genre: 'telephone', Val Acc of Neural Networks: 36.517412935323385\n",
      "\n",
      "For genre: 'fiction', Val Acc of Logistic Regression: 31.457286432160803\n",
      "For genre: 'fiction', Val Acc of Neural Networks: 34.87437185929648\n",
      "\n",
      "For genre: 'slate', Val Acc of Logistic Regression: 35.12974051896207\n",
      "For genre: 'slate', Val Acc of Neural Networks: 34.830339321357286\n",
      "\n",
      "For genre: 'government', Val Acc of Logistic Regression: 29.03543307086614\n",
      "For genre: 'government', Val Acc of Neural Networks: 36.71259842519685\n",
      "\n",
      "For genre: 'travel', Val Acc of Logistic Regression: 30.855397148676172\n",
      "For genre: 'travel', Val Acc of Neural Networks: 35.437881873727086\n",
      "\n"
     ]
    }
   ],
   "source": [
    "for g in genre:\n",
    "    index_train = train_MNLI[train_MNLI['genre']==g].index\n",
    "    x_train_premise = [train_indices_MNLI[i] for i in index_train]\n",
    "    x_train_hypothesis = [train_indices_MNLI[2*i] for i in index_train]\n",
    "    y_train_by_genre = [y_train_MNLI[i] for i in index_train]\n",
    "    train_dataset = NewsGroupDataset(x_train_premise, x_train_hypothesis, y_train_by_genre)\n",
    "    train_loader = torch.utils.data.DataLoader(dataset=train_dataset, batch_size=32, collate_fn=newsgroup_collate_func,\n",
    "                                              shuffle=True)\n",
    "    \n",
    "    index = val_MNLI[val_MNLI['genre']==g].index\n",
    "    x_val_premise = [val_indices_MNLI[i] for i in index]\n",
    "    x_val_hypothesis = [val_indices_MNLI[2*i] for i in index]\n",
    "    y_val_by_genre = [y_val_MNLI[i] for i in index]\n",
    "    val_dataset = NewsGroupDataset(x_val_premise, x_val_hypothesis, y_val_by_genre)\n",
    "    val_loader = torch.utils.data.DataLoader(dataset=val_dataset, batch_size=32, collate_fn=newsgroup_collate_func,\n",
    "                                              shuffle=True)\n",
    "    \n",
    "    model = LogisticRegression_frozen(pretrained_weight,300,'product')\n",
    "    model.load_state_dict(torch.load('lr_frozen.ckpt'))\n",
    "    \n",
    "    print (\"For genre: '{}', Val Acc of Logistic Regression: {}\".format(g, test_model(val_loader, model)))\n",
    "    \n",
    "    model = NN_frozen(pretrained_weight,300,'product')\n",
    "    model.load_state_dict(torch.load('nn_frozen.ckpt'))\n",
    "\n",
    "    print (\"For genre: '{}', Val Acc of Neural Networks: {}\".format(g,test_model(val_loader, model)))\n",
    "    print ()"
   ]
  }
 ],
 "metadata": {
  "kernelspec": {
   "display_name": "Python 3",
   "language": "python",
   "name": "python3"
  },
  "language_info": {
   "codemirror_mode": {
    "name": "ipython",
    "version": 3
   },
   "file_extension": ".py",
   "mimetype": "text/x-python",
   "name": "python",
   "nbconvert_exporter": "python",
   "pygments_lexer": "ipython3",
   "version": "3.6.5"
  }
 },
 "nbformat": 4,
 "nbformat_minor": 2
}
