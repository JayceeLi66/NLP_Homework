{
  "nbformat": 4,
  "nbformat_minor": 0,
  "metadata": {
    "accelerator": "GPU",
    "colab": {
      "name": "NLP_HW2_Li.ipynb",
      "provenance": [],
      "collapsed_sections": [
        "V6T6gTiVFD19",
        "zjVWreNpFD1-",
        "tYTQ-YsyFD2B",
        "gTl8YMzwFD2G",
        "2bgOuOZwFD2M",
        "AHb3rdoxCPcH",
        "nHkE4Fvanuvr",
        "uKy5oDovr6Lx",
        "1cJeykS5yO7Q"
      ],
      "toc_visible": true
    },
    "kernelspec": {
      "display_name": "Python 3",
      "language": "python",
      "name": "python3"
    },
    "language_info": {
      "codemirror_mode": {
        "name": "ipython",
        "version": 3
      },
      "file_extension": ".py",
      "mimetype": "text/x-python",
      "name": "python",
      "nbconvert_exporter": "python",
      "pygments_lexer": "ipython3",
      "version": "3.6.5"
    }
  },
  "cells": [
    {
      "cell_type": "code",
      "metadata": {
        "colab_type": "code",
        "id": "H_7bEXDVFSKn",
        "outputId": "32454a13-0807-4d3b-da7d-edc5e86db1c6",
        "colab": {
          "base_uri": "https://localhost:8080/",
          "height": 124
        }
      },
      "source": [
        "!pip install jsonlines"
      ],
      "execution_count": 1,
      "outputs": [
        {
          "output_type": "stream",
          "text": [
            "Collecting jsonlines\n",
            "  Downloading https://files.pythonhosted.org/packages/4f/9a/ab96291470e305504aa4b7a2e0ec132e930da89eb3ca7a82fbe03167c131/jsonlines-1.2.0-py2.py3-none-any.whl\n",
            "Requirement already satisfied: six in /usr/local/lib/python3.6/dist-packages (from jsonlines) (1.12.0)\n",
            "Installing collected packages: jsonlines\n",
            "Successfully installed jsonlines-1.2.0\n"
          ],
          "name": "stdout"
        }
      ]
    },
    {
      "cell_type": "code",
      "metadata": {
        "colab_type": "code",
        "id": "WeoDyeEHFD17",
        "colab": {}
      },
      "source": [
        "import os\n",
        "import json\n",
        "import jsonlines\n",
        "import numpy as np\n",
        "from collections import defaultdict"
      ],
      "execution_count": 0,
      "outputs": []
    },
    {
      "cell_type": "markdown",
      "metadata": {
        "colab_type": "text",
        "id": "esyPhxXHFD15"
      },
      "source": [
        "# DS-GA 1011 Homework 2\n",
        "## N-Gram and Neural Language Modeling"
      ]
    },
    {
      "cell_type": "markdown",
      "metadata": {
        "colab_type": "text",
        "id": "V6T6gTiVFD19"
      },
      "source": [
        "## I. N-Gram Language Modeling"
      ]
    },
    {
      "cell_type": "markdown",
      "metadata": {
        "colab_type": "text",
        "id": "zjVWreNpFD1-"
      },
      "source": [
        "#### Utilities"
      ]
    },
    {
      "cell_type": "code",
      "metadata": {
        "colab_type": "code",
        "id": "HKlNuTieFD1_",
        "colab": {}
      },
      "source": [
        "def load_wikitext(filename='wikitext2-sentencized.json'):\n",
        "    if not os.path.exists(filename):\n",
        "        !wget \"https://nyu.box.com/shared/static/9kb7l7ci30hb6uahhbssjlq0kctr5ii4.json\" -O $filename\n",
        "    \n",
        "    datasets = json.load(open(filename, 'r'))\n",
        "    for name in datasets:\n",
        "        datasets[name] = [x.split() for x in datasets[name]]\n",
        "    vocab = list(set([t for ts in datasets['train'] for t in ts]))      \n",
        "    print(\"Vocab size: %d\" % (len(vocab)))\n",
        "    return datasets, vocab\n",
        "\n",
        "def perplexity(model, sequences):\n",
        "    n_total = 0\n",
        "    logp_total = 0\n",
        "    for sequence in sequences:\n",
        "        logp_total += model.sequence_logp(sequence)\n",
        "        n_total += len(sequence) + 1  \n",
        "    ppl = 2 ** (- (1.0 / n_total) * logp_total)  \n",
        "    return ppl"
      ],
      "execution_count": 0,
      "outputs": []
    },
    {
      "cell_type": "code",
      "metadata": {
        "colab_type": "code",
        "id": "GD6SlgoKdWxp",
        "outputId": "689df7dd-8a65-47c6-f3d1-6c3ff2d16dce",
        "colab": {
          "base_uri": "https://localhost:8080/",
          "height": 35
        }
      },
      "source": [
        "datasets, vocab = load_wikitext()"
      ],
      "execution_count": 4,
      "outputs": [
        {
          "output_type": "stream",
          "text": [
            "Vocab size: 33175\n"
          ],
          "name": "stdout"
        }
      ]
    },
    {
      "cell_type": "markdown",
      "metadata": {
        "colab_type": "text",
        "id": "tYTQ-YsyFD2B"
      },
      "source": [
        "### Additive Smoothing"
      ]
    },
    {
      "cell_type": "code",
      "metadata": {
        "colab_type": "code",
        "id": "kw3IkAhVFD2B",
        "colab": {}
      },
      "source": [
        "class NGramAdditive(object):\n",
        "    def __init__(self, n, delta, vsize):\n",
        "        self.n = n\n",
        "        self.delta = delta\n",
        "        self.count = defaultdict(lambda: defaultdict(float))\n",
        "        self.total = defaultdict(float)\n",
        "        self.vsize = vsize\n",
        "    \n",
        "    def estimate(self, sequences):\n",
        "        for sequence in sequences:\n",
        "            padded_sequence = ['<bos>']*(self.n-1) + sequence + ['<eos>']\n",
        "            for i in range(len(padded_sequence) - self.n+1):\n",
        "                ngram = tuple(padded_sequence[i:i+self.n])\n",
        "                prefix, word = ngram[:-1], ngram[-1]\n",
        "                self.count[prefix][word] += 1\n",
        "                self.total[prefix] += 1\n",
        "                \n",
        "    def sequence_logp(self, sequence):\n",
        "        padded_sequence = ['<bos>']*(self.n-1) + sequence + ['<eos>']\n",
        "        total_logp = 0\n",
        "        for i in range(len(padded_sequence) - self.n+1):\n",
        "            ngram = tuple(padded_sequence[i:i+self.n])\n",
        "            total_logp += np.log2(self.ngram_prob(ngram))\n",
        "        return total_logp\n",
        "\n",
        "    def ngram_prob(self, ngram):\n",
        "        prefix = ngram[:-1]\n",
        "        word = ngram[-1]\n",
        "        prob = ((self.delta + self.count[prefix][word]) / \n",
        "                (self.total[prefix] + self.delta*self.vsize))\n",
        "        return prob"
      ],
      "execution_count": 0,
      "outputs": []
    },
    {
      "cell_type": "code",
      "metadata": {
        "colab_type": "code",
        "id": "ZauFuH0uFD2D",
        "outputId": "78bd714d-cb6e-41cc-eaaf-92e21e226ad1",
        "colab": {
          "base_uri": "https://localhost:8080/",
          "height": 138
        }
      },
      "source": [
        "delta = 0.0005\n",
        "for n in [2, 3, 4]:\n",
        "    lm = NGramAdditive(n=n, delta=delta, vsize=len(vocab)+1)  # +1 is for <eos>\n",
        "    lm.estimate(datasets['train'])\n",
        "\n",
        "    print(\"Baseline (Additive smoothing, n=%d, delta=%.4f)) Train Perplexity: %.3f\" % (n, delta, perplexity(lm, datasets['train'])))\n",
        "    print(\"Baseline (Additive smoothing, n=%d, delta=%.4f)) Valid Perplexity: %.3f\" % (n, delta, perplexity(lm, datasets['valid'])))"
      ],
      "execution_count": 0,
      "outputs": [
        {
          "output_type": "stream",
          "text": [
            "Vocab size: 33175\n",
            "Baseline (Additive smoothing, n=2, delta=0.0005)) Train Perplexity: 90.228\n",
            "Baseline (Additive smoothing, n=2, delta=0.0005)) Valid Perplexity: 525.825\n",
            "Baseline (Additive smoothing, n=3, delta=0.0005)) Train Perplexity: 26.768\n",
            "Baseline (Additive smoothing, n=3, delta=0.0005)) Valid Perplexity: 2577.128\n",
            "Baseline (Additive smoothing, n=4, delta=0.0005)) Train Perplexity: 19.947\n",
            "Baseline (Additive smoothing, n=4, delta=0.0005)) Valid Perplexity: 9570.901\n"
          ],
          "name": "stdout"
        }
      ]
    },
    {
      "cell_type": "markdown",
      "metadata": {
        "colab_type": "text",
        "id": "gTl8YMzwFD2G"
      },
      "source": [
        "### I.1 Interpolation"
      ]
    },
    {
      "cell_type": "code",
      "metadata": {
        "colab_type": "code",
        "id": "QJA2055PFD2G",
        "colab": {}
      },
      "source": [
        "class NGramInterpolation(object):\n",
        "    def __init__(self, lambda_ls, vsize):\n",
        "        self.l = lambda_ls\n",
        "        self.count = defaultdict(lambda: defaultdict(float))\n",
        "        self.total = defaultdict(float)\n",
        "        self.vsize = vsize\n",
        "    \n",
        "    def estimate(self, sequences):\n",
        "        for n in range(1, len(self.l)):\n",
        "            for sequence in sequences:\n",
        "                padded_sequence = ['<bos>']*(n-1) + sequence + ['<eos>']\n",
        "                for i in range(len(padded_sequence) - n+1):\n",
        "                    ngram = tuple(padded_sequence[i:i+n])\n",
        "                    prefix, word = ngram[:-1], ngram[-1]\n",
        "                    self.count[prefix][word] += 1\n",
        "                    self.total[prefix] += 1\n",
        "                \n",
        "    def sequence_logp(self, sequence):\n",
        "        n = len(self.l)\n",
        "        padded_sequence = ['<bos>']*(n-1) + sequence + ['<eos>']\n",
        "        total_logp = 0\n",
        "        for i in range(len(padded_sequence) - n):\n",
        "            ngram = tuple(padded_sequence[i:i+n])\n",
        "            total_logp += np.log2(self.ngram_prob(ngram))\n",
        "        return total_logp\n",
        "\n",
        "\n",
        "\n",
        "    def ngram_prob(self, ngram):\n",
        "        prob = self.l[0]/self.vsize\n",
        "        for n in range(1, len(self.l)):\n",
        "            prefix = ngram[-n:-1]\n",
        "            word = ngram[-1]\n",
        "            if self.total[prefix] != 0:\n",
        "                prob += self.l[n] * self.count[prefix][word] / self.total[prefix]\n",
        "        return prob"
      ],
      "execution_count": 0,
      "outputs": []
    },
    {
      "cell_type": "markdown",
      "metadata": {
        "colab_type": "text",
        "id": "Gp18DuEoUttV"
      },
      "source": [
        "#### Tune $\\lambda$ for n=2"
      ]
    },
    {
      "cell_type": "code",
      "metadata": {
        "colab_type": "code",
        "id": "Y1LjDsXUPUNE",
        "outputId": "e00c1545-20df-4f5e-d12b-b1fb3a04e5bd",
        "colab": {
          "base_uri": "https://localhost:8080/",
          "height": 276
        }
      },
      "source": [
        "lambda_range = [[0.33, 0.33, 0.34], [0.2, 0.3, 0.5], \n",
        "                [0.2, 0.8, 0], [0.2, 0, 0.8],\n",
        "                [0.1, 0.1, 0.8]]\n",
        "for l in lambda_range:\n",
        "    lm = NGramInterpolation(lambda_ls=l, vsize=len(vocab)+1)\n",
        "    lm.estimate(datasets['train'])\n",
        "\n",
        "    print(\"Interpolation smoothing, n=%d, lambda=%s, Train Perplexity: %.3f\" % (len(l)-1, l, perplexity(lm, datasets['train'])))\n",
        "    print(\"Interpolation smoothing, n=%d, lambda=%s, Valid Perplexity: %.3f\" % (len(l)-1, l, perplexity(lm, datasets['valid'])))\n",
        "    print()"
      ],
      "execution_count": 0,
      "outputs": [
        {
          "output_type": "stream",
          "text": [
            "Interpolation smoothing, n=2, lambda=[0.33, 0.33, 0.34], Train Perplexity: 167.716\n",
            "Interpolation smoothing, n=2, lambda=[0.33, 0.33, 0.34], Valid Perplexity: 370.320\n",
            "\n",
            "Interpolation smoothing, n=2, lambda=[0.2, 0.3, 0.5], Train Perplexity: 126.119\n",
            "Interpolation smoothing, n=2, lambda=[0.2, 0.3, 0.5], Valid Perplexity: 316.744\n",
            "\n",
            "Interpolation smoothing, n=2, lambda=[0.2, 0.8, 0], Train Perplexity: 1060.071\n",
            "Interpolation smoothing, n=2, lambda=[0.2, 0.8, 0], Valid Perplexity: 907.352\n",
            "\n",
            "Interpolation smoothing, n=2, lambda=[0.2, 0, 0.8], Train Perplexity: 92.656\n",
            "Interpolation smoothing, n=2, lambda=[0.2, 0, 0.8], Valid Perplexity: 420.348\n",
            "\n",
            "Interpolation smoothing, n=2, lambda=[0.1, 0.1, 0.8], Train Perplexity: 90.183\n",
            "Interpolation smoothing, n=2, lambda=[0.1, 0.1, 0.8], Valid Perplexity: 307.340\n",
            "\n"
          ],
          "name": "stdout"
        }
      ]
    },
    {
      "cell_type": "code",
      "metadata": {
        "colab_type": "code",
        "id": "3ll1GtXui82H",
        "outputId": "44d79d8d-6a5d-4a10-e81f-69a0d916678c",
        "colab": {
          "base_uri": "https://localhost:8080/",
          "height": 225
        }
      },
      "source": [
        "lambda_range = [[0.1, 0.2, 0.7], [0.1, 0.3, 0.6],\n",
        "                [0.01, 0.29, 0.7], [0.01, 0.2, 0.79]]\n",
        "for l in lambda_range:\n",
        "    lm = NGramInterpolation(lambda_ls=l, vsize=len(vocab)+1)\n",
        "    lm.estimate(datasets['train'])\n",
        "\n",
        "    print(\"Interpolation smoothing, n=%d, lambda=%s, Train Perplexity: %.3f\" % (len(l)-1, l, perplexity(lm, datasets['train'])))\n",
        "    print(\"Interpolation smoothing, n=%d, lambda=%s, Valid Perplexity: %.3f\" % (len(l)-1, l, perplexity(lm, datasets['valid'])))\n",
        "    print()"
      ],
      "execution_count": 0,
      "outputs": [
        {
          "output_type": "stream",
          "text": [
            "Interpolation smoothing, n=2, lambda=[0.1, 0.2, 0.7], Train Perplexity: 98.576\n",
            "Interpolation smoothing, n=2, lambda=[0.1, 0.2, 0.7], Valid Perplexity: 295.600\n",
            "\n",
            "Interpolation smoothing, n=2, lambda=[0.1, 0.3, 0.6], Train Perplexity: 109.225\n",
            "Interpolation smoothing, n=2, lambda=[0.1, 0.3, 0.6], Valid Perplexity: 297.180\n",
            "\n",
            "Interpolation smoothing, n=2, lambda=[0.01, 0.29, 0.7], Train Perplexity: 96.745\n",
            "Interpolation smoothing, n=2, lambda=[0.01, 0.29, 0.7], Valid Perplexity: 294.042\n",
            "\n",
            "Interpolation smoothing, n=2, lambda=[0.01, 0.2, 0.79], Train Perplexity: 89.199\n",
            "Interpolation smoothing, n=2, lambda=[0.01, 0.2, 0.79], Valid Perplexity: 300.005\n",
            "\n"
          ],
          "name": "stdout"
        }
      ]
    },
    {
      "cell_type": "markdown",
      "metadata": {
        "colab_type": "text",
        "id": "QLY7dDfvky-Q"
      },
      "source": [
        "Best setting: [0.01, 0.29, 0.7]\n",
        "\n",
        "Lowest Valid Perplexity: 294.042"
      ]
    },
    {
      "cell_type": "markdown",
      "metadata": {
        "colab_type": "text",
        "id": "a5op9lgxVPoW"
      },
      "source": [
        "#### Tune $\\lambda$ for n=3"
      ]
    },
    {
      "cell_type": "code",
      "metadata": {
        "colab_type": "code",
        "id": "sOGTNznQVP_I",
        "outputId": "c96ce373-d496-40d6-90e4-e3d19426acc3",
        "colab": {
          "base_uri": "https://localhost:8080/",
          "height": 225
        }
      },
      "source": [
        "lambda_range = [[0.01, 0.29, 0.3, 0.4], [0.01, 0.29, 0.2, 0.5],\n",
        "                [0.01, 0.19, 0.3, 0.5], [0.01, 0.19, 0.2, 0.6]]\n",
        "for l in lambda_range:\n",
        "    lm = NGramInterpolation(lambda_ls=l, vsize=len(vocab)+1)\n",
        "    lm.estimate(datasets['train'])\n",
        "\n",
        "    print(\"Interpolation smoothing, n=%d, lambda=%s, Train Perplexity: %.3f\" % (len(l)-1, l, perplexity(lm, datasets['train'])))\n",
        "    print(\"Interpolation smoothing, n=%d, lambda=%s, Valid Perplexity: %.3f\" % (len(l)-1, l, perplexity(lm, datasets['valid'])))\n",
        "    print()"
      ],
      "execution_count": 0,
      "outputs": [
        {
          "output_type": "stream",
          "text": [
            "Interpolation smoothing, n=3, lambda=[0.01, 0.29, 0.3, 0.4], Train Perplexity: 15.325\n",
            "Interpolation smoothing, n=3, lambda=[0.01, 0.29, 0.3, 0.4], Valid Perplexity: 293.228\n",
            "\n",
            "Interpolation smoothing, n=3, lambda=[0.01, 0.29, 0.2, 0.5], Train Perplexity: 13.462\n",
            "Interpolation smoothing, n=3, lambda=[0.01, 0.29, 0.2, 0.5], Valid Perplexity: 318.350\n",
            "\n",
            "Interpolation smoothing, n=3, lambda=[0.01, 0.19, 0.3, 0.5], Train Perplexity: 12.978\n",
            "Interpolation smoothing, n=3, lambda=[0.01, 0.19, 0.3, 0.5], Valid Perplexity: 313.347\n",
            "\n",
            "Interpolation smoothing, n=3, lambda=[0.01, 0.19, 0.2, 0.6], Train Perplexity: 11.655\n",
            "Interpolation smoothing, n=3, lambda=[0.01, 0.19, 0.2, 0.6], Valid Perplexity: 344.486\n",
            "\n"
          ],
          "name": "stdout"
        }
      ]
    },
    {
      "cell_type": "code",
      "metadata": {
        "colab_type": "code",
        "id": "zxFaL--HlwCu",
        "outputId": "429004f9-60ba-410b-bc8c-9616d7e04617",
        "colab": {
          "base_uri": "https://localhost:8080/",
          "height": 225
        }
      },
      "source": [
        "lambda_range = [[0.01, 0.29, 0.4, 0.3], [0.01, 0.29, 0.5, 0.2],\n",
        "                [0.01, 0.19, 0.5, 0.3], [0.01, 0.19, 0.6, 0.2]]\n",
        "for l in lambda_range:\n",
        "    lm = NGramInterpolation(lambda_ls=l, vsize=len(vocab)+1)\n",
        "    lm.estimate(datasets['train'])\n",
        "\n",
        "    print(\"Interpolation smoothing, n=%d, lambda=%s, Train Perplexity: %.3f\" % (len(l)-1, l, perplexity(lm, datasets['train'])))\n",
        "    print(\"Interpolation smoothing, n=%d, lambda=%s, Valid Perplexity: %.3f\" % (len(l)-1, l, perplexity(lm, datasets['valid'])))\n",
        "    print()"
      ],
      "execution_count": 0,
      "outputs": [
        {
          "output_type": "stream",
          "text": [
            "Interpolation smoothing, n=3, lambda=[0.01, 0.29, 0.4, 0.3], Train Perplexity: 17.985\n",
            "Interpolation smoothing, n=3, lambda=[0.01, 0.29, 0.4, 0.3], Valid Perplexity: 278.743\n",
            "\n",
            "Interpolation smoothing, n=3, lambda=[0.01, 0.29, 0.5, 0.2], Train Perplexity: 22.212\n",
            "Interpolation smoothing, n=3, lambda=[0.01, 0.29, 0.5, 0.2], Valid Perplexity: 271.353\n",
            "\n",
            "Interpolation smoothing, n=3, lambda=[0.01, 0.19, 0.5, 0.3], Train Perplexity: 17.256\n",
            "Interpolation smoothing, n=3, lambda=[0.01, 0.19, 0.5, 0.3], Valid Perplexity: 283.224\n",
            "\n",
            "Interpolation smoothing, n=3, lambda=[0.01, 0.19, 0.6, 0.2], Train Perplexity: 21.223\n",
            "Interpolation smoothing, n=3, lambda=[0.01, 0.19, 0.6, 0.2], Valid Perplexity: 277.553\n",
            "\n"
          ],
          "name": "stdout"
        }
      ]
    },
    {
      "cell_type": "markdown",
      "metadata": {
        "colab_type": "text",
        "id": "zMdrNcZImqz7"
      },
      "source": [
        "Best setting: [0.01, 0.29, 0.5, 0.2]\n",
        "\n",
        "Lowest Valid Perplexity: 271.353"
      ]
    },
    {
      "cell_type": "markdown",
      "metadata": {
        "colab_type": "text",
        "id": "YbrftUztVXfl"
      },
      "source": [
        "#### Tune $\\lambda$ for n=4"
      ]
    },
    {
      "cell_type": "code",
      "metadata": {
        "colab_type": "code",
        "id": "KwMScL62VbO1",
        "outputId": "d107441c-b088-4ef6-8635-f61ef8db0c50",
        "colab": {
          "base_uri": "https://localhost:8080/",
          "height": 173
        }
      },
      "source": [
        "lambda_range = [[0.01, 0.29, 0.5, 0.1, 0.1], [0.01, 0.29, 0.4, 0.2, 0.1],\n",
        "                [0.01, 0.19, 0.5, 0.2, 0.1]]\n",
        "for l in lambda_range:\n",
        "    lm = NGramInterpolation(lambda_ls=l, vsize=len(vocab)+1)\n",
        "    lm.estimate(datasets['train'])\n",
        "\n",
        "    print(\"Interpolation smoothing, n=%d, lambda=%s, Train Perplexity: %.3f\" % (len(l)-1, l, perplexity(lm, datasets['train'])))\n",
        "    print(\"Interpolation smoothing, n=%d, lambda=%s, Valid Perplexity: %.3f\" % (len(l)-1, l, perplexity(lm, datasets['valid'])))\n",
        "    print()"
      ],
      "execution_count": 0,
      "outputs": [
        {
          "output_type": "stream",
          "text": [
            "Interpolation smoothing, n=4, lambda=[0.01, 0.29, 0.5, 0.1, 0.1], Train Perplexity: 10.469\n",
            "Interpolation smoothing, n=4, lambda=[0.01, 0.29, 0.5, 0.1, 0.1], Valid Perplexity: 277.409\n",
            "\n",
            "Interpolation smoothing, n=4, lambda=[0.01, 0.29, 0.4, 0.2, 0.1], Train Perplexity: 9.083\n",
            "Interpolation smoothing, n=4, lambda=[0.01, 0.29, 0.4, 0.2, 0.1], Valid Perplexity: 282.617\n",
            "\n",
            "Interpolation smoothing, n=4, lambda=[0.01, 0.19, 0.5, 0.2, 0.1], Train Perplexity: 8.805\n",
            "Interpolation smoothing, n=4, lambda=[0.01, 0.19, 0.5, 0.2, 0.1], Valid Perplexity: 286.733\n",
            "\n"
          ],
          "name": "stdout"
        }
      ]
    },
    {
      "cell_type": "code",
      "metadata": {
        "colab_type": "code",
        "id": "SY2ndRMBoXfg",
        "outputId": "87954f3b-9b83-415c-cd93-488b1f46f111",
        "colab": {
          "base_uri": "https://localhost:8080/",
          "height": 173
        }
      },
      "source": [
        "lambda_range = [[0.01, 0.29, 0.5, 0.19, 0.01], [0.01, 0.29, 0.49, 0.2, 0.01],\n",
        "                [0.01, 0.28, 0.5, 0.2, 0.01]]\n",
        "for l in lambda_range:\n",
        "    lm = NGramInterpolation(lambda_ls=l, vsize=len(vocab)+1)\n",
        "    lm.estimate(datasets['train'])\n",
        "\n",
        "    print(\"Interpolation smoothing, n=%d, lambda=%s, Train Perplexity: %.3f\" % (len(l)-1, l, perplexity(lm, datasets['train'])))\n",
        "    print(\"Interpolation smoothing, n=%d, lambda=%s, Valid Perplexity: %.3f\" % (len(l)-1, l, perplexity(lm, datasets['valid'])))\n",
        "    print()"
      ],
      "execution_count": 0,
      "outputs": [
        {
          "output_type": "stream",
          "text": [
            "Interpolation smoothing, n=4, lambda=[0.01, 0.29, 0.5, 0.19, 0.01], Train Perplexity: 17.175\n",
            "Interpolation smoothing, n=4, lambda=[0.01, 0.29, 0.5, 0.19, 0.01], Valid Perplexity: 270.364\n",
            "\n",
            "Interpolation smoothing, n=4, lambda=[0.01, 0.29, 0.49, 0.2, 0.01], Train Perplexity: 16.820\n",
            "Interpolation smoothing, n=4, lambda=[0.01, 0.29, 0.49, 0.2, 0.01], Valid Perplexity: 270.813\n",
            "\n",
            "Interpolation smoothing, n=4, lambda=[0.01, 0.28, 0.5, 0.2, 0.01], Train Perplexity: 16.750\n",
            "Interpolation smoothing, n=4, lambda=[0.01, 0.28, 0.5, 0.2, 0.01], Valid Perplexity: 270.926\n",
            "\n"
          ],
          "name": "stdout"
        }
      ]
    },
    {
      "cell_type": "code",
      "metadata": {
        "colab_type": "code",
        "id": "CQZaH3DTo5Sw",
        "outputId": "51b363cf-2677-4d15-8045-73ce81d704f7",
        "colab": {
          "base_uri": "https://localhost:8080/",
          "height": 121
        }
      },
      "source": [
        "lambda_range = [[0.01, 0.29, 0.49, 0.19, 0.02], [0.01, 0.28, 0.49, 0.19, 0.03]]\n",
        "for l in lambda_range:\n",
        "    lm = NGramInterpolation(lambda_ls=l, vsize=len(vocab)+1)\n",
        "    lm.estimate(datasets['train'])\n",
        "\n",
        "    print(\"Interpolation smoothing, n=%d, lambda=%s, Train Perplexity: %.3f\" % (len(l)-1, l, perplexity(lm, datasets['train'])))\n",
        "    print(\"Interpolation smoothing, n=%d, lambda=%s, Valid Perplexity: %.3f\" % (len(l)-1, l, perplexity(lm, datasets['valid'])))\n",
        "    print()"
      ],
      "execution_count": 0,
      "outputs": [
        {
          "output_type": "stream",
          "text": [
            "Interpolation smoothing, n=4, lambda=[0.01, 0.29, 0.49, 0.19, 0.02], Train Perplexity: 15.120\n",
            "Interpolation smoothing, n=4, lambda=[0.01, 0.29, 0.49, 0.19, 0.02], Valid Perplexity: 270.873\n",
            "\n",
            "Interpolation smoothing, n=4, lambda=[0.01, 0.28, 0.49, 0.19, 0.03], Train Perplexity: 13.689\n",
            "Interpolation smoothing, n=4, lambda=[0.01, 0.28, 0.49, 0.19, 0.03], Valid Perplexity: 271.795\n",
            "\n"
          ],
          "name": "stdout"
        }
      ]
    },
    {
      "cell_type": "markdown",
      "metadata": {
        "colab_type": "text",
        "id": "6w1shZgupWKq"
      },
      "source": [
        "Best setting: [0.01, 0.29, 0.5, 0.19, 0.01]\n",
        "\n",
        "Lowest Valid Perplexity: 270.364"
      ]
    },
    {
      "cell_type": "markdown",
      "metadata": {
        "colab_type": "text",
        "id": "QsyZcX5NFD2I"
      },
      "source": [
        "#### Results (showing $\\lambda_0,\\ldots,\\lambda_n$ values):"
      ]
    },
    {
      "cell_type": "code",
      "metadata": {
        "colab_type": "code",
        "id": "MXbg0_GLFD2I",
        "colab": {}
      },
      "source": [
        ""
      ],
      "execution_count": 0,
      "outputs": []
    },
    {
      "cell_type": "markdown",
      "metadata": {
        "colab_type": "text",
        "id": "IKRpKvHPFD2K"
      },
      "source": [
        "## II. Neural Language Modeling with a Recurrent Neural Network"
      ]
    },
    {
      "cell_type": "code",
      "metadata": {
        "colab_type": "code",
        "id": "0I_ULEaoFD2L",
        "colab": {}
      },
      "source": [
        "import torch\n",
        "import torch.nn as nn\n",
        "from torch.nn import RNNCell\n",
        "from torch.nn import RNNBase, RNN\n",
        "from torch.utils.data import Dataset, DataLoader\n",
        "from torch.nn import Embedding\n",
        "import torch.optim as optim\n",
        "from tqdm import tqdm\n",
        "import sys\n",
        "import pickle as pkl\n",
        "import matplotlib.pyplot as plt"
      ],
      "execution_count": 0,
      "outputs": []
    },
    {
      "cell_type": "markdown",
      "metadata": {
        "colab_type": "text",
        "id": "2bgOuOZwFD2M"
      },
      "source": [
        "#### Utilities\n",
        "\n",
        "(Hint: you can adopt the `Dictionary`, dataset loading, and training code from the lab for use here)"
      ]
    },
    {
      "cell_type": "code",
      "metadata": {
        "colab_type": "code",
        "id": "a4Z4ZOHuFD2N",
        "colab": {}
      },
      "source": [
        "class Dictionary(object):\n",
        "    def __init__(self, datasets, include_valid=False):\n",
        "        self.tokens = []\n",
        "        self.ids = {}\n",
        "        self.counts = {}\n",
        "        self.add_token('<bos>')\n",
        "        self.add_token('<eos>')\n",
        "        self.add_token('<pad>')\n",
        "        self.add_token('<unk>')\n",
        "        \n",
        "        for line in tqdm(datasets['train']):\n",
        "            for w in line:\n",
        "                self.add_token(w)\n",
        "                    \n",
        "        if include_valid is True:\n",
        "            for line in tqdm(datasets['valid']):\n",
        "                for w in line:\n",
        "                    self.add_token(w)\n",
        "                            \n",
        "    def add_token(self, w):\n",
        "        if w not in self.tokens:\n",
        "            self.tokens.append(w)\n",
        "            _w_id = len(self.tokens) - 1\n",
        "            self.ids[w] = _w_id\n",
        "            self.counts[w] = 1\n",
        "        else:\n",
        "            self.counts[w] += 1\n",
        "\n",
        "    def get_id(self, w):\n",
        "        return self.ids[w]\n",
        "    \n",
        "    def get_token(self, idx):\n",
        "        return self.tokens[idx]\n",
        "    \n",
        "    def decode_idx_seq(self, l):\n",
        "        return [self.tokens[i] for i in l]\n",
        "    \n",
        "    def encode_token_seq(self, l):\n",
        "        return [self.ids[i] if i in self.ids else self.ids['<unk>'] for i in l]\n",
        "    \n",
        "    def __len__(self):\n",
        "        return len(self.tokens)\n",
        "\n",
        "\n",
        "\n",
        "def tokenize_dataset(datasets, dictionary, ngram_order=2):\n",
        "    tokenized_datasets = {}\n",
        "    for split, dataset in datasets.items():\n",
        "        _current_dictified = []\n",
        "        for l in tqdm(dataset):\n",
        "            l = ['<bos>']*(ngram_order-1) + l + ['<eos>']\n",
        "            encoded_l = dictionary.encode_token_seq(l)\n",
        "            _current_dictified.append(encoded_l)\n",
        "        tokenized_datasets[split] = _current_dictified\n",
        "        \n",
        "    return tokenized_datasets"
      ],
      "execution_count": 0,
      "outputs": []
    },
    {
      "cell_type": "code",
      "metadata": {
        "colab_type": "code",
        "id": "f-H2LVI9hQNF",
        "colab": {}
      },
      "source": [
        "import torch\n",
        "from torch.utils.data import Dataset, RandomSampler, SequentialSampler, DataLoader\n",
        "\n",
        "class TensoredDataset(Dataset):\n",
        "    def __init__(self, list_of_lists_of_tokens):\n",
        "        self.input_tensors = []\n",
        "        self.target_tensors = []\n",
        "        \n",
        "        for sample in list_of_lists_of_tokens:\n",
        "            self.input_tensors.append(torch.tensor([sample[:-1]], dtype=torch.long))\n",
        "            self.target_tensors.append(torch.tensor([sample[1:]], dtype=torch.long))\n",
        "    \n",
        "    def __len__(self):\n",
        "        return len(self.input_tensors)\n",
        "    \n",
        "    def __getitem__(self, idx):\n",
        "        # return a (input, target) tuple\n",
        "        return (self.input_tensors[idx], self.target_tensors[idx])\n",
        "\n",
        "def pad_list_of_tensors(list_of_tensors, pad_token):\n",
        "    max_length = max([t.size(-1) for t in list_of_tensors])\n",
        "    padded_list = []\n",
        "    \n",
        "    for t in list_of_tensors:\n",
        "        padded_tensor = torch.cat([t, torch.tensor([[pad_token]*(max_length - t.size(-1))], dtype=torch.long)], dim = -1)\n",
        "        padded_list.append(padded_tensor)\n",
        "        \n",
        "    padded_tensor = torch.cat(padded_list, dim=0)\n",
        "    \n",
        "    return padded_tensor\n",
        "\n",
        "def pad_collate_fn(batch):\n",
        "    # batch is a list of sample tuples\n",
        "    input_list = [s[0] for s in batch]\n",
        "    target_list = [s[1] for s in batch]\n",
        "    \n",
        "    pad_token = wiki_dict.get_id('<pad>')\n",
        "    \n",
        "    input_tensor = pad_list_of_tensors(input_list, pad_token)\n",
        "    target_tensor = pad_list_of_tensors(target_list, pad_token)\n",
        "    \n",
        "    return input_tensor, target_tensor      "
      ],
      "execution_count": 0,
      "outputs": []
    },
    {
      "cell_type": "code",
      "metadata": {
        "colab_type": "code",
        "id": "s5H5Cby2hWMS",
        "outputId": "9df2c530-9378-4ee3-9865-70a7d6648233",
        "colab": {
          "base_uri": "https://localhost:8080/",
          "height": 69
        }
      },
      "source": [
        "wiki_dict = pkl.load(open(\"wiki_dict.p\", \"rb\"))\n",
        "wiki_tokenized_datasets = tokenize_dataset(datasets, wiki_dict)\n",
        "wiki_tensor_dataset = {}\n",
        "\n",
        "for split, listoflists in wiki_tokenized_datasets.items():\n",
        "    wiki_tensor_dataset[split] = TensoredDataset(listoflists)\n",
        "    \n",
        "wiki_loaders = {}\n",
        "batch_size = 32\n",
        "for split, wiki_dataset in wiki_tensor_dataset.items():\n",
        "    wiki_loaders[split] = DataLoader(wiki_dataset, batch_size=batch_size, shuffle=True, collate_fn=pad_collate_fn)"
      ],
      "execution_count": 8,
      "outputs": [
        {
          "output_type": "stream",
          "text": [
            "100%|██████████| 78274/78274 [00:00<00:00, 102765.86it/s]\n",
            "100%|██████████| 8464/8464 [00:00<00:00, 129278.27it/s]\n",
            "100%|██████████| 9708/9708 [00:00<00:00, 127194.61it/s]\n"
          ],
          "name": "stderr"
        }
      ]
    },
    {
      "cell_type": "markdown",
      "metadata": {
        "colab_type": "text",
        "id": "AHb3rdoxCPcH"
      },
      "source": [
        "#### Train RNN model (Baseline)"
      ]
    },
    {
      "cell_type": "code",
      "metadata": {
        "colab_type": "code",
        "id": "djvpCg40gYw6",
        "colab": {}
      },
      "source": [
        "class RNNLanguageModel(nn.Module):\n",
        "    \"\"\"\n",
        "    This model combines embedding, rnn and projection layer into a single model\n",
        "    \"\"\"\n",
        "    def __init__(self, options):\n",
        "        super().__init__()\n",
        "        \n",
        "        # create each LM part here \n",
        "        self.lookup = nn.Embedding(num_embeddings=options['num_embeddings'], embedding_dim=options['embedding_dim'], padding_idx=options['padding_idx'])\n",
        "        self.rnn = nn.RNN(options['input_size'], options['hidden_size'], options['num_layers'], dropout=options['rnn_dropout'], batch_first=True)\n",
        "        self.projection = nn.Linear(options['hidden_size'], options['num_embeddings'])\n",
        "        \n",
        "    def forward(self, encoded_input_sequence):\n",
        "        \"\"\"\n",
        "        Forward method process the input from token ids to logits\n",
        "        \"\"\"\n",
        "        embeddings = self.lookup(encoded_input_sequence)\n",
        "        rnn_outputs = self.rnn(embeddings)\n",
        "        logits = self.projection(rnn_outputs[0])\n",
        "        \n",
        "        return logits"
      ],
      "execution_count": 0,
      "outputs": []
    },
    {
      "cell_type": "code",
      "metadata": {
        "colab_type": "code",
        "id": "BdGXmLhxgqNg",
        "colab": {}
      },
      "source": [
        "load_pretrained = False\n",
        "\n",
        "num_gpus = torch.cuda.device_count()\n",
        "if num_gpus > 0:\n",
        "    current_device = 'cuda'\n",
        "else:\n",
        "    current_device = 'cpu'\n",
        "\n",
        "\n",
        "embedding_size = 64\n",
        "hidden_size = 128\n",
        "num_layers = 2\n",
        "rnn_dropout = 0.1\n",
        "\n",
        "options = {\n",
        "    'num_embeddings': len(wiki_dict),\n",
        "    'embedding_dim': embedding_size,\n",
        "    'padding_idx': wiki_dict.get_id('<pad>'),\n",
        "    'input_size': embedding_size,\n",
        "    'hidden_size': hidden_size,\n",
        "    'num_layers': num_layers,\n",
        "    'rnn_dropout': rnn_dropout,\n",
        "}\n",
        "\n",
        "    \n",
        "model = RNNLanguageModel(options).to(current_device)\n",
        "\n",
        "criterion = nn.CrossEntropyLoss(ignore_index=wiki_dict.get_id('<pad>'))\n",
        "\n",
        "model_parameters = [p for p in model.parameters() if p.requires_grad]\n",
        "optimizer = optim.Adam(model_parameters, lr=0.001)"
      ],
      "execution_count": 0,
      "outputs": []
    },
    {
      "cell_type": "code",
      "metadata": {
        "colab_type": "code",
        "id": "LpG6FnfxiQSB",
        "outputId": "7e023e00-6ae6-4488-ade5-7c6070e792b0",
        "colab": {
          "base_uri": "https://localhost:8080/",
          "height": 363
        }
      },
      "source": [
        "plot_cache = []\n",
        "\n",
        "for epoch_number in range(10):\n",
        "    avg_loss=0\n",
        "    # do train\n",
        "    model.train()\n",
        "    train_log_cache = []\n",
        "    for i, (inp, target) in enumerate(wiki_loaders['train']):\n",
        "        optimizer.zero_grad()\n",
        "        inp = inp.to(current_device)\n",
        "        target = target.to(current_device)\n",
        "        logits = model(inp)\n",
        "\n",
        "        loss = criterion(logits.view(-1, logits.size(-1)), target.view(-1))\n",
        "\n",
        "        loss.backward()\n",
        "        optimizer.step()\n",
        "\n",
        "        train_log_cache.append(loss.item())\n",
        "\n",
        "    avg_loss = sum(train_log_cache)/len(train_log_cache)\n",
        "    ppl = 2**(avg_loss/np.log(2))\n",
        "    print('Epoch {} avg train perplexity = {:.{prec}f}'.format(epoch_number+1, ppl, prec=4))\n",
        "    train_log_cache = []\n",
        "            \n",
        "    #do valid\n",
        "    valid_losses = []\n",
        "    model.eval()\n",
        "    with torch.no_grad():\n",
        "        for i, (inp, target) in enumerate(wiki_loaders['valid']):\n",
        "            inp = inp.to(current_device)\n",
        "            target = target.to(current_device)\n",
        "            logits = model(inp)\n",
        "\n",
        "            loss = criterion(logits.view(-1, logits.size(-1)), target.view(-1))\n",
        "            valid_losses.append(loss.item())\n",
        "        avg_val_loss = sum(valid_losses) / len(valid_losses)\n",
        "        ppl_val = 2**(avg_val_loss/np.log(2))\n",
        "        print('Validation Perplexity after {} epoch = {:.{prec}f}'.format(epoch_number, ppl_val, prec=4))\n",
        "        \n",
        "    plot_cache.append((avg_loss, avg_val_loss))\n",
        "\n",
        "torch.save(model.state_dict(), \"RNN_Baseline.ckpt\")"
      ],
      "execution_count": 0,
      "outputs": [
        {
          "output_type": "stream",
          "text": [
            "Epoch 0 avg train perplexity = 520.6948\n",
            "Validation Perplexity after 0 epoch = 300.4343\n",
            "Epoch 1 avg train perplexity = 284.1837\n",
            "Validation Perplexity after 1 epoch = 249.6376\n",
            "Epoch 2 avg train perplexity = 222.1489\n",
            "Validation Perplexity after 2 epoch = 226.3106\n",
            "Epoch 3 avg train perplexity = 188.7494\n",
            "Validation Perplexity after 3 epoch = 217.5824\n",
            "Epoch 4 avg train perplexity = 166.5211\n",
            "Validation Perplexity after 4 epoch = 212.1410\n",
            "Epoch 5 avg train perplexity = 151.0226\n",
            "Validation Perplexity after 5 epoch = 208.0731\n",
            "Epoch 6 avg train perplexity = 139.4528\n",
            "Validation Perplexity after 6 epoch = 207.9464\n",
            "Epoch 7 avg train perplexity = 130.3967\n",
            "Validation Perplexity after 7 epoch = 205.7767\n",
            "Epoch 8 avg train perplexity = 123.0918\n",
            "Validation Perplexity after 8 epoch = 207.6671\n",
            "Epoch 9 avg train perplexity = 116.9712\n",
            "Validation Perplexity after 9 epoch = 207.1735\n"
          ],
          "name": "stdout"
        }
      ]
    },
    {
      "cell_type": "code",
      "metadata": {
        "colab_type": "code",
        "id": "L__S_AYSDIJE",
        "colab": {}
      },
      "source": [
        "# rnn = RNNLanguageModel(options).to(current_device)\n",
        "# rnn.load_state_dict(torch.load('RNN_Baseline.ckpt'))\n",
        "# valid_losses = []\n",
        "# model.eval()\n",
        "# with torch.no_grad():\n",
        "#     for i, (inp, target) in enumerate(wiki_loaders['valid']):\n",
        "#         inp = inp.to(current_device)\n",
        "#         target = target.to(current_device)\n",
        "#         logits = rnn(inp)\n",
        "\n",
        "#         loss = criterion(logits.view(-1, logits.size(-1)), target.view(-1))\n",
        "#         valid_losses.append(loss.item())\n",
        "#     avg_val_loss = sum(valid_losses) / len(valid_losses)\n",
        "#     ppl_val = 2**(avg_val_loss/np.log(2))\n",
        "#     print('Validation Perplexity = {:.{prec}f}'.format(ppl_val, prec=4))"
      ],
      "execution_count": 0,
      "outputs": []
    },
    {
      "cell_type": "markdown",
      "metadata": {
        "colab_type": "text",
        "id": "onS5J40EshlG"
      },
      "source": [
        "\n",
        "\n",
        "**Baseline validation perplexity = 207.1735**\n",
        "\n",
        "\n",
        "\n",
        "\n",
        "\n",
        "\n"
      ]
    },
    {
      "cell_type": "markdown",
      "metadata": {
        "colab_type": "text",
        "id": "dYSozgT-FD2O"
      },
      "source": [
        "### II.1 LSTM and Hyper-Parameters"
      ]
    },
    {
      "cell_type": "markdown",
      "metadata": {
        "colab_type": "text",
        "id": "zDvJU1RExG2V"
      },
      "source": [
        "#### Implement LSTM"
      ]
    },
    {
      "cell_type": "code",
      "metadata": {
        "colab_type": "code",
        "id": "xZ_UFDZ7FD2P",
        "colab": {}
      },
      "source": [
        "class LSTMLanguageModel(nn.Module):\n",
        "    def __init__(self, options):\n",
        "        super().__init__()\n",
        "        \n",
        "        self.lookup = nn.Embedding(num_embeddings=options['num_embeddings'], embedding_dim=options['embedding_dim'], padding_idx=options['padding_idx'])\n",
        "        self.lstm = nn.LSTM(options['input_size'], options['hidden_size'], options['num_layers'], batch_first=True)\n",
        "        self.projection = nn.Linear(options['hidden_size'], options['num_embeddings'])\n",
        "        \n",
        "    def forward(self, encoded_input_sequence):\n",
        "      \n",
        "        embeddings = self.lookup(encoded_input_sequence)\n",
        "        lstm_outputs = self.lstm(embeddings)\n",
        "        logits = self.projection(lstm_outputs[0])\n",
        "        \n",
        "        return logits"
      ],
      "execution_count": 0,
      "outputs": []
    },
    {
      "cell_type": "markdown",
      "metadata": {
        "colab_type": "text",
        "id": "nHkE4Fvanuvr"
      },
      "source": [
        "#### Function for hyper-parameter tuning"
      ]
    },
    {
      "cell_type": "code",
      "metadata": {
        "colab_type": "code",
        "id": "UmTDPW2TEUhG",
        "colab": {}
      },
      "source": [
        "def TuneLSTM(options, learning_rate=0.001, epochs=10, save_model=False):\n",
        "  \n",
        "    model = LSTMLanguageModel(options).to(current_device)\n",
        "    criterion = nn.CrossEntropyLoss(ignore_index=wiki_dict.get_id('<pad>'))\n",
        "    model_parameters = [p for p in model.parameters() if p.requires_grad]\n",
        "    optimizer = optim.Adam(model_parameters, lr=0.001)\n",
        "\n",
        "    ppl, ppl_val = 0, 0\n",
        "    \n",
        "    for epoch_number in range(10):\n",
        "        avg_loss=0\n",
        "        # do train\n",
        "        model.train()\n",
        "        train_log_cache = []\n",
        "        for i, (inp, target) in enumerate(wiki_loaders['train']):\n",
        "            optimizer.zero_grad()\n",
        "            inp = inp.to(current_device)\n",
        "            target = target.to(current_device)\n",
        "            logits = model(inp)\n",
        "\n",
        "            loss = criterion(logits.view(-1, logits.size(-1)), target.view(-1))\n",
        "\n",
        "            loss.backward()\n",
        "            optimizer.step()\n",
        "\n",
        "            train_log_cache.append(loss.item())\n",
        "\n",
        "        avg_loss = sum(train_log_cache)/len(train_log_cache)\n",
        "        ppl = 2**(avg_loss/np.log(2))\n",
        "        if epoch_number == 9:\n",
        "            print('Avg train perplexity = {:.{prec}f}'.format(ppl, prec=4))\n",
        "        train_log_cache = []\n",
        "\n",
        "        #do valid\n",
        "        valid_losses = []\n",
        "        model.eval()\n",
        "        with torch.no_grad():\n",
        "            for i, (inp, target) in enumerate(wiki_loaders['valid']):\n",
        "                inp = inp.to(current_device)\n",
        "                target = target.to(current_device)\n",
        "                logits = model(inp)\n",
        "\n",
        "                loss = criterion(logits.view(-1, logits.size(-1)), target.view(-1))\n",
        "                valid_losses.append(loss.item())\n",
        "            avg_val_loss = sum(valid_losses) / len(valid_losses)\n",
        "            ppl_val = 2**(avg_val_loss/np.log(2))\n",
        "            if epoch_number == 9:\n",
        "                print('Validation Perplexity = {:.{prec}f}'.format(ppl_val, prec=4))\n",
        "                print()\n",
        "    \n",
        "    if save_model:\n",
        "        torch.save(model.state_dict(), \"LSTM_best.ckpt\")\n",
        "        \n",
        "    return ppl, ppl_val"
      ],
      "execution_count": 0,
      "outputs": []
    },
    {
      "cell_type": "markdown",
      "metadata": {
        "colab_type": "text",
        "id": "uKy5oDovr6Lx"
      },
      "source": [
        "#### Tune learning rate"
      ]
    },
    {
      "cell_type": "code",
      "metadata": {
        "id": "5pVuybPz2p0U",
        "colab_type": "code",
        "colab": {}
      },
      "source": [
        "options = {'embedding_dim': 64,\n",
        "           'hidden_size': 128,\n",
        "           'input_size': 64,\n",
        "           'num_embeddings': 33178,\n",
        "           'num_layers': 2,\n",
        "           'padding_idx': 2,\n",
        "           'rnn_dropout': 0.1}"
      ],
      "execution_count": 0,
      "outputs": []
    },
    {
      "cell_type": "code",
      "metadata": {
        "colab_type": "code",
        "id": "GmpypPX1r5uN",
        "outputId": "7a0fa033-6db2-4a67-a99e-189db301dfd8",
        "colab": {
          "base_uri": "https://localhost:8080/",
          "height": 276
        }
      },
      "source": [
        "lr_range = [0.0001, 0.001, 0.005, 0.01, 0.1]\n",
        "ppl_ls, ppl_val_ls = [], []\n",
        "for lr in lr_range:\n",
        "    ppl, ppl_val = TuneLSTM(options, learning_rate=lr, epochs=10)\n",
        "    ppl_ls.append(ppl)\n",
        "    ppl_val_ls.append(ppl_val)"
      ],
      "execution_count": 0,
      "outputs": [
        {
          "output_type": "stream",
          "text": [
            "Avg train perplexity = 100.5221\n",
            "Validation Perplexity = 203.4454\n",
            "\n",
            "Avg train perplexity = 103.2668\n",
            "Validation Perplexity = 206.7101\n",
            "\n",
            "Avg train perplexity = 104.4677\n",
            "Validation Perplexity = 204.8227\n",
            "\n",
            "Avg train perplexity = 108.9131\n",
            "Validation Perplexity = 209.4359\n",
            "\n",
            "Avg train perplexity = 101.6385\n",
            "Validation Perplexity = 201.7499\n",
            "\n"
          ],
          "name": "stdout"
        }
      ]
    },
    {
      "cell_type": "code",
      "metadata": {
        "colab_type": "code",
        "id": "RVJPlgTqaisx",
        "colab": {}
      },
      "source": [
        "# lr_range = [0.0001, 0.001, 0.005, 0.01, 0.1]\n",
        "# ppl_ls = [100.5221, 103.2668, 104.4677, 108.9131, 101.6385]\n",
        "# ppl_val_ls = [203.4454, 206.7101, 204.8227, 209.4359, 201.7499]"
      ],
      "execution_count": 0,
      "outputs": []
    },
    {
      "cell_type": "code",
      "metadata": {
        "colab_type": "code",
        "id": "lZN7bSiow2zH",
        "outputId": "b676bae2-ace8-4e2a-a92e-48fd3c9c0ce6",
        "colab": {
          "base_uri": "https://localhost:8080/",
          "height": 295
        }
      },
      "source": [
        "plt.plot(np.arange(5), ppl_ls, label='Train ppl')\n",
        "plt.plot(np.arange(5), ppl_val_ls, label='Validation ppl')\n",
        "plt.scatter(np.arange(5), ppl_ls)\n",
        "plt.scatter(np.arange(5), ppl_val_ls)\n",
        "plt.xticks(np.arange(5), lr_range)\n",
        "plt.title('Tune Learning Rate')\n",
        "plt.xlabel('Learning Rate')\n",
        "plt.ylabel('Perplexity')\n",
        "plt.legend()\n",
        "plt.show()"
      ],
      "execution_count": 0,
      "outputs": [
        {
          "output_type": "display_data",
          "data": {
            "image/png": "[encoded data removed]",
            "text/plain": [
              "<Figure size 432x288 with 1 Axes>"
            ]
          },
          "metadata": {
            "tags": []
          }
        }
      ]
    },
    {
      "cell_type": "markdown",
      "metadata": {
        "colab_type": "text",
        "id": "MVbWjWgRc5V-"
      },
      "source": [
        "Best learning rate = 0.1\n",
        "\n",
        "Lowest validation perplexity = 201.7499"
      ]
    },
    {
      "cell_type": "markdown",
      "metadata": {
        "colab_type": "text",
        "id": "1cJeykS5yO7Q"
      },
      "source": [
        "#### Tune number of layers"
      ]
    },
    {
      "cell_type": "code",
      "metadata": {
        "id": "G_PBXsWF2oB9",
        "colab_type": "code",
        "colab": {}
      },
      "source": [
        "options = {'embedding_dim': 64,\n",
        "           'hidden_size': 128,\n",
        "           'input_size': 64,\n",
        "           'num_embeddings': 33178,\n",
        "           'num_layers': 2,\n",
        "           'padding_idx': 2,\n",
        "           'rnn_dropout': 0.1}"
      ],
      "execution_count": 0,
      "outputs": []
    },
    {
      "cell_type": "code",
      "metadata": {
        "colab_type": "code",
        "id": "CTOoGPE6yhG9",
        "outputId": "c8952582-bb07-4e70-db78-eb4117964d83",
        "colab": {
          "base_uri": "https://localhost:8080/",
          "height": 173
        }
      },
      "source": [
        "ppl_ls, ppl_val_ls = [], []\n",
        "num_layers_range = [2, 3, 4]\n",
        "for num_layers in num_layers_range:\n",
        "    options['num_layers'] = num_layers\n",
        "    ppl, ppl_val = TuneLSTM(options, learning_rate=0.1)\n",
        "    ppl_ls.append(ppl)\n",
        "    ppl_val_ls.append(ppl_val)"
      ],
      "execution_count": 0,
      "outputs": [
        {
          "output_type": "stream",
          "text": [
            "Avg train perplexity = 100.9032\n",
            "Validation Perplexity = 201.2449\n",
            "\n",
            "Avg train perplexity = 116.5239\n",
            "Validation Perplexity = 214.9222\n",
            "\n",
            "Avg train perplexity = 127.5283\n",
            "Validation Perplexity = 229.9399\n",
            "\n"
          ],
          "name": "stdout"
        }
      ]
    },
    {
      "cell_type": "code",
      "metadata": {
        "colab_type": "code",
        "id": "k2Q-x5hh2Bde",
        "colab": {}
      },
      "source": [
        "# num_layers_range = [2, 3, 4]\n",
        "# ppl_ls = [100.9032, 116.5239, 127.5283]\n",
        "# ppl_val_ls = [201.2449, 214.9222, 229.9399]"
      ],
      "execution_count": 0,
      "outputs": []
    },
    {
      "cell_type": "code",
      "metadata": {
        "colab_type": "code",
        "id": "QEOMg_69yhS6",
        "outputId": "b930abed-336c-4daa-d7bb-a3320c1a26b6",
        "colab": {
          "base_uri": "https://localhost:8080/",
          "height": 295
        }
      },
      "source": [
        "plt.plot(np.arange(3), ppl_ls, label='Train ppl')\n",
        "plt.plot(np.arange(3), ppl_val_ls, label='Validation ppl')\n",
        "plt.scatter(np.arange(3), ppl_ls)\n",
        "plt.scatter(np.arange(3), ppl_val_ls)\n",
        "plt.xticks(np.arange(3), num_layers_range)\n",
        "plt.title('Tune Num of Layers')\n",
        "plt.xlabel('Num of Layers')\n",
        "plt.ylabel('Perplexity')\n",
        "plt.legend()\n",
        "plt.show()"
      ],
      "execution_count": 0,
      "outputs": [
        {
          "output_type": "display_data",
          "data": {
            "image/png": "[encoded data removed]",
            "text/plain": [
              "<Figure size 432x288 with 1 Axes>"
            ]
          },
          "metadata": {
            "tags": []
          }
        }
      ]
    },
    {
      "cell_type": "markdown",
      "metadata": {
        "colab_type": "text",
        "id": "yr8bkvU80Uah"
      },
      "source": [
        "Best Num_of_Layers = 2\n",
        "\n",
        "Lowest validation perplexity = 201.2449"
      ]
    },
    {
      "cell_type": "markdown",
      "metadata": {
        "id": "HQMmGNr12VGF",
        "colab_type": "text"
      },
      "source": [
        "#### Tune embedding dimension"
      ]
    },
    {
      "cell_type": "code",
      "metadata": {
        "id": "sLiN8XdF2cNc",
        "colab_type": "code",
        "colab": {}
      },
      "source": [
        "options = {'embedding_dim': 64,\n",
        "           'hidden_size': 128,\n",
        "           'input_size': 64,\n",
        "           'num_embeddings': 33178,\n",
        "           'num_layers': 2,\n",
        "           'padding_idx': 2,\n",
        "           'rnn_dropout': 0.1}"
      ],
      "execution_count": 0,
      "outputs": []
    },
    {
      "cell_type": "code",
      "metadata": {
        "id": "hAqqplLs2Ybo",
        "colab_type": "code",
        "colab": {}
      },
      "source": [
        "emb_list = [50, 64, 80, 128]\n",
        "ppl_ls, ppl_val_ls = [], []\n",
        "for emb_dim in emb_list:\n",
        "    options['embedding_dim'] = emb_dim\n",
        "    options['input_size'] = emb_dim\n",
        "    ppl, ppl_val = TuneLSTM(options, learning_rate=0.1, epochs=10)\n",
        "    ppl_ls.append(ppl)\n",
        "    ppl_val_ls.append(ppl_val)"
      ],
      "execution_count": 0,
      "outputs": []
    },
    {
      "cell_type": "code",
      "metadata": {
        "id": "3h03du8r2YkL",
        "colab_type": "code",
        "colab": {}
      },
      "source": [
        "plt.plot(np.arange(4), ppl_ls, label='Train ppl')\n",
        "plt.plot(np.arange(4), ppl_val_ls, label='Validation ppl')\n",
        "plt.scatter(np.arange(4), ppl_ls)\n",
        "plt.scatter(np.arange(4), ppl_val_ls)\n",
        "plt.xticks(np.arange(4), emb_list)\n",
        "plt.title('Tune Embedding Dimension')\n",
        "plt.xlabel('Embedding Dimension')\n",
        "plt.ylabel('Perplexity')\n",
        "plt.legend()\n",
        "plt.show()"
      ],
      "execution_count": 0,
      "outputs": []
    },
    {
      "cell_type": "markdown",
      "metadata": {
        "colab_type": "text",
        "id": "PGfcKJInFD2Q"
      },
      "source": [
        "#### Results (LSTM vs. Baseline)"
      ]
    },
    {
      "cell_type": "code",
      "metadata": {
        "colab_type": "code",
        "id": "gHAhniSrFD2R",
        "colab": {}
      },
      "source": [
        "options = {'embedding_dim': 128,\n",
        "           'hidden_size': 128,\n",
        "           'input_size': 128,\n",
        "           'num_embeddings': 33178,\n",
        "           'num_layers': 2,\n",
        "           'padding_idx': 2,\n",
        "           'rnn_dropout': 0.1}\n",
        "\n",
        "ppl, ppl_val = TuneLSTM(options, learning_rate=0.1, save_model=True)"
      ],
      "execution_count": 0,
      "outputs": []
    },
    {
      "cell_type": "code",
      "metadata": {
        "id": "VrFHgjokACEL",
        "colab_type": "code",
        "colab": {
          "base_uri": "https://localhost:8080/",
          "height": 35
        },
        "outputId": "6f92f417-8f10-4771-c7bc-1c653f5dad7b"
      },
      "source": [
        "lstm = LSTMLanguageModel(options).to(current_device)\n",
        "lstm.load_state_dict(torch.load('LSTM_best.ckpt'))\n",
        "valid_losses = []\n",
        "model.eval()\n",
        "with torch.no_grad():\n",
        "    for i, (inp, target) in enumerate(wiki_loaders['valid']):\n",
        "        inp = inp.to(current_device)\n",
        "        target = target.to(current_device)\n",
        "        logits = lstm(inp)\n",
        "\n",
        "        loss = criterion(logits.view(-1, logits.size(-1)), target.view(-1))\n",
        "        valid_losses.append(loss.item())\n",
        "    avg_val_loss = sum(valid_losses) / len(valid_losses)\n",
        "    ppl_val = 2**(avg_val_loss/np.log(2))\n",
        "    print('Validation Perplexity = {:.{prec}f}'.format(ppl_val, prec=4))"
      ],
      "execution_count": 17,
      "outputs": [
        {
          "output_type": "stream",
          "text": [
            "Validation Perplexity = 199.5804\n"
          ],
          "name": "stdout"
        }
      ]
    },
    {
      "cell_type": "markdown",
      "metadata": {
        "colab_type": "text",
        "id": "MtStk2HTFD2T"
      },
      "source": [
        "#### Performance Variation Based on Hyperparameter Values"
      ]
    },
    {
      "cell_type": "code",
      "metadata": {
        "colab_type": "code",
        "id": "UuoRjCbGFD2T",
        "colab": {}
      },
      "source": [
        ""
      ],
      "execution_count": 0,
      "outputs": []
    },
    {
      "cell_type": "markdown",
      "metadata": {
        "colab_type": "text",
        "id": "5dUp76rbFD2V"
      },
      "source": [
        "### II.2 Learned Embeddings"
      ]
    },
    {
      "cell_type": "markdown",
      "metadata": {
        "colab_type": "text",
        "id": "bV0DtsWzBLKd"
      },
      "source": [
        "#### Find cloest and furthest words"
      ]
    },
    {
      "cell_type": "code",
      "metadata": {
        "colab_type": "code",
        "id": "mCcg65DXBT4r",
        "colab": {}
      },
      "source": [
        "options = {\n",
        "    'num_embeddings': 33178, \n",
        "    'embedding_dim': 64,\n",
        "    'padding_idx': 2,\n",
        "    'input_size': 64,\n",
        "    'hidden_size': 128,\n",
        "    'num_layers': 2,\n",
        "    'rnn_dropout': 0.1,\n",
        "}\n",
        "\n",
        "model = LSTMLanguageModel(options).to(current_device)\n",
        "model.load_state_dict(torch.load('LSTM_best.ckpt'))\n",
        "embed = model.lookup.to('cpu')"
      ],
      "execution_count": 0,
      "outputs": []
    },
    {
      "cell_type": "code",
      "metadata": {
        "colab_type": "code",
        "id": "uq5jKqTnBURd",
        "outputId": "8ce22c5b-4ed9-4feb-90dd-9de6ad8fbb9e",
        "colab": {
          "base_uri": "https://localhost:8080/",
          "height": 555
        }
      },
      "source": [
        "words = ['white', 'cat', 'has', 'short', 'leg']\n",
        "ids = wiki_dict.encode_token_seq(words)\n",
        "vecs = embed(torch.LongTensor(ids)).detach().numpy()\n",
        "all_vecs = embed(torch.LongTensor(np.arange(len(wiki_dict)))).detach().numpy()\n",
        "for i in range(5):\n",
        "    vec = vecs[i]\n",
        "    cos_sim_ls = [sum(vec*v)/np.linalg.norm(vec)*np.linalg.norm(v) for v in all_vecs]\n",
        "    sorted_cos_sim = np.sort(cos_sim_ls)\n",
        "    closest, furthest = [], []\n",
        "    for j in range(10):\n",
        "      closest.append(int(np.where(cos_sim_ls==sorted_cos_sim[-j-2])[0]))\n",
        "      furthest.append(int(np.where(cos_sim_ls==sorted_cos_sim[j])[0]))\n",
        "    \n",
        "    print('10 cloeset words of \"{}\"'.format(words[i]))\n",
        "    print(wiki_dict.decode_idx_seq(closest))\n",
        "    print()\n",
        "    print('10 furthest words of \"{}\"'.format(words[i]))\n",
        "    print(wiki_dict.decode_idx_seq(furthest))\n",
        "    print()"
      ],
      "execution_count": 0,
      "outputs": [
        {
          "output_type": "stream",
          "text": [
            "10 cloeset words of \"white\"\n",
            "['survivors', 'wanted', 'Writers', 'Industry', 'Lopez', 'Ophelia', 'tawny', 'turkey', 'Reid', 'beautifully']\n",
            "\n",
            "10 furthest words of \"white\"\n",
            "['born', 'Twins', '1859', 'unwelcome', 'beginning', 'set', 'Quahog', 'tonic', 'remarked', 'Mac']\n",
            "\n",
            "10 cloeset words of \"cat\"\n",
            "['fact', 'Poles', 'bloodstream', 'cat', 'grenadiers', 'submarines', 'contamination', 'engineered', 'clades', 'Ostend']\n",
            "\n",
            "10 furthest words of \"cat\"\n",
            "['becoming', 'spend', 'late', 'Citra', 'possibly', 'May', 'Inter', 'Marquette', 'number', 'unpleasant']\n",
            "\n",
            "10 cloeset words of \"has\"\n",
            "['have', 'helicopter', 'Danny', 'Waterfall', 'Edie', 'Super', 'didn', 'had', 'likely', 'rather']\n",
            "\n",
            "10 furthest words of \"has\"\n",
            "['<unk', '<', '.', '?', 'Therefore', 'roots', 'Relics', 'reels', 'views', 'millimeter']\n",
            "\n",
            "10 cloeset words of \"short\"\n",
            "['south', 'Lewis', 'similar', 'Enterprises', 'spite', 'fake', 'any', 'comedy', '1220', 'Waterfall']\n",
            "\n",
            "10 furthest words of \"short\"\n",
            "['nakedness', 'vacancy', 'Swamp', 'legibility', 'guns', 'dictatorships', '1797', 'safely', '1685', 'Symposium']\n",
            "\n",
            "10 cloeset words of \"leg\"\n",
            "[\"'Automobile\", 'peaking', 'accelerate', 'movable', 'gotta', 'hypothetical', 'video', 'aforementioned', 'recaptured', 'ultra']\n",
            "\n",
            "10 furthest words of \"leg\"\n",
            "['remarking', 'Without', 'there', 'triumphed', 'willing', 'bowlers', 'contrast', 'eroded', 'concerned', 'Turner']\n",
            "\n"
          ],
          "name": "stdout"
        }
      ]
    },
    {
      "cell_type": "markdown",
      "metadata": {
        "colab_type": "text",
        "id": "hEPytwW7FD2V"
      },
      "source": [
        "#### Utilities\n",
        "\n",
        "Below is code to use [UMAP](https://umap-learn.readthedocs.io/en/latest/) to find a 2-dimensional representation of a weight matrix, and plot the resulting 2-dimensional points that correspond to certain words.\n",
        "\n",
        "Use `!pip install umap-learn` to install UMAP."
      ]
    },
    {
      "cell_type": "code",
      "metadata": {
        "colab_type": "code",
        "id": "JEZpRBmjFD2W",
        "outputId": "cc81cd68-1f7d-4e8d-b6ec-b6cfe85e988b",
        "colab": {}
      },
      "source": [
        "%pylab inline \n",
        "import umap\n",
        "import matplotlib.pyplot as plt\n",
        "\n",
        "def umap_plot(weight_matrix, word_ids, words):\n",
        "    \"\"\"Run UMAP on the entire Vxd `weight_matrix` (e.g. model.lookup.weight or model.projection.weight),\n",
        "    And plot the points corresponding to the given `word_ids`. \"\"\"\n",
        "    reduced = umap.UMAP(min_dist=0.0001).fit_transform(weight_matrix.detach().cpu().numpy())\n",
        "    plt.figure(figsize=(20,20))\n",
        "\n",
        "    to_plot = reduced[word_ids, :]\n",
        "    plt.scatter(to_plot[:, 0], to_plot[:, 1])\n",
        "    for i, word_id in enumerate(word_ids):\n",
        "        current_point = to_plot[i]\n",
        "        plt.annotate(words[i], (current_point[0], current_point[1]))\n",
        "\n",
        "    plt.grid()\n",
        "    plt.show()"
      ],
      "execution_count": 0,
      "outputs": [
        {
          "output_type": "stream",
          "text": [
            "Populating the interactive namespace from numpy and matplotlib\n"
          ],
          "name": "stdout"
        }
      ]
    },
    {
      "cell_type": "code",
      "metadata": {
        "colab_type": "code",
        "id": "QNBmEuA9FD2Y",
        "outputId": "443f6eea-071d-46bc-d5dc-e4f2eb7dcf85",
        "colab": {}
      },
      "source": [
        "Vsize = 100                                 # e.g. len(dictionary)\n",
        "d = 32                                      # e.g. model.lookup.weight.size(1) \n",
        "fake_weight_matrix = torch.randn(Vsize, d)  # e.g. model.lookup.weight\n",
        "\n",
        "words = ['the', 'dog', 'ran']\n",
        "word_ids = [4, 54, 20]                  # e.g. use dictionary.get_id on a list of words\n",
        "\n",
        "umap_plot(fake_weight_matrix, word_ids, words)"
      ],
      "execution_count": 0,
      "outputs": [
        {
          "output_type": "display_data",
          "data": {
            "image/png": "[encoded data removed]",
            "text/plain": [
              "<Figure size 1440x1440 with 1 Axes>"
            ]
          },
          "metadata": {
            "tags": [],
            "needs_background": "light"
          }
        }
      ]
    },
    {
      "cell_type": "markdown",
      "metadata": {
        "colab_type": "text",
        "id": "BnFZ2mWrFD2a"
      },
      "source": [
        "#### II.2.1 Word Similarity"
      ]
    },
    {
      "cell_type": "code",
      "metadata": {
        "colab_type": "code",
        "id": "QDY1LxZjFD2a",
        "colab": {}
      },
      "source": [
        ""
      ],
      "execution_count": 0,
      "outputs": []
    },
    {
      "cell_type": "markdown",
      "metadata": {
        "colab_type": "text",
        "id": "b9yLPROjFD2c"
      },
      "source": [
        "#### II.2.2 Embedding Layer"
      ]
    },
    {
      "cell_type": "code",
      "metadata": {
        "colab_type": "code",
        "id": "7ajV_nE3FD2c",
        "colab": {}
      },
      "source": [
        ""
      ],
      "execution_count": 0,
      "outputs": []
    },
    {
      "cell_type": "markdown",
      "metadata": {
        "colab_type": "text",
        "id": "HnLN38OVFD2e"
      },
      "source": [
        "#### II.2.3 Projection Layer"
      ]
    },
    {
      "cell_type": "code",
      "metadata": {
        "colab_type": "code",
        "id": "8w3jcuqWFD2e",
        "colab": {}
      },
      "source": [
        ""
      ],
      "execution_count": 0,
      "outputs": []
    },
    {
      "cell_type": "markdown",
      "metadata": {
        "colab_type": "text",
        "id": "FzzpebFkFD2h"
      },
      "source": [
        " "
      ]
    },
    {
      "cell_type": "markdown",
      "metadata": {
        "colab_type": "text",
        "id": "RhQmqQXAFD2i"
      },
      "source": [
        "### II.3 Scoring"
      ]
    },
    {
      "cell_type": "code",
      "metadata": {
        "colab_type": "code",
        "id": "27_vDpScFD2i",
        "colab": {}
      },
      "source": [
        ""
      ],
      "execution_count": 0,
      "outputs": []
    },
    {
      "cell_type": "markdown",
      "metadata": {
        "colab_type": "text",
        "id": "Oop65tFhFD2l"
      },
      "source": [
        "#### II.3.2 Highest and Lowest scoring sequences"
      ]
    },
    {
      "cell_type": "code",
      "metadata": {
        "colab_type": "code",
        "id": "XPsJQM-bFD2m",
        "colab": {}
      },
      "source": [
        ""
      ],
      "execution_count": 0,
      "outputs": []
    },
    {
      "cell_type": "markdown",
      "metadata": {
        "colab_type": "text",
        "id": "P4MgROaRFD2o"
      },
      "source": [
        "#### II.3.3 Modified sequences"
      ]
    },
    {
      "cell_type": "code",
      "metadata": {
        "colab_type": "code",
        "id": "ftL6eIPwFD2p",
        "colab": {}
      },
      "source": [
        ""
      ],
      "execution_count": 0,
      "outputs": []
    },
    {
      "cell_type": "markdown",
      "metadata": {
        "colab_type": "text",
        "id": "pDvxYZBtFD2r"
      },
      "source": [
        "### II.4 Sampling"
      ]
    },
    {
      "cell_type": "code",
      "metadata": {
        "colab_type": "code",
        "id": "AFSKZbkOFD2s",
        "colab": {}
      },
      "source": [
        ""
      ],
      "execution_count": 0,
      "outputs": []
    },
    {
      "cell_type": "markdown",
      "metadata": {
        "colab_type": "text",
        "id": "zAnPOZzvFD2x"
      },
      "source": [
        "#### II.4.3 Number of unique tokens and sequence length \n",
        "\n",
        "(1,000 samples vs. 1,000 randomly selected validation-set sequences)"
      ]
    },
    {
      "cell_type": "code",
      "metadata": {
        "colab_type": "code",
        "id": "hKKkDVtkFD2x",
        "colab": {}
      },
      "source": [
        ""
      ],
      "execution_count": 0,
      "outputs": []
    },
    {
      "cell_type": "markdown",
      "metadata": {
        "colab_type": "text",
        "id": "owgPfDU3FD2z"
      },
      "source": [
        "#### II.4.4 Example Samples"
      ]
    },
    {
      "cell_type": "code",
      "metadata": {
        "colab_type": "code",
        "id": "iaQZig44FD2z",
        "colab": {}
      },
      "source": [
        ""
      ],
      "execution_count": 0,
      "outputs": []
    }
  ]
}